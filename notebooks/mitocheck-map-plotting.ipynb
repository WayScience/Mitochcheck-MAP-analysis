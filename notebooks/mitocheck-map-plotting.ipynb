{
 "cells": [
  {
   "cell_type": "code",
   "execution_count": 1,
   "metadata": {},
   "outputs": [],
   "source": [
    "import pathlib\n",
    "import pandas as pd\n",
    "\n",
    "from copairs.map import aggregate"
   ]
  },
  {
   "cell_type": "code",
   "execution_count": 2,
   "metadata": {},
   "outputs": [],
   "source": [
    "# Directories\n",
    "processed_data_dir = pathlib.Path(\"../data/processed/\")\n",
    "mAP_scores_dir = (processed_data_dir / \"mAP_scores\").resolve(strict=True)\n",
    "agg_mAP_scores_dir = (processed_data_dir / \"aggregate_mAPs\").resolve(strict=True)"
   ]
  },
  {
   "cell_type": "markdown",
   "metadata": {},
   "source": [
    "## Preparing the dataset \n",
    "Next seed of the block, we load the collected mAP single-cell scores generated from the previous notebook.\n",
    "These scores are loaded into a dataframe and separated based on the type of features (CP DP CP_DP).\n",
    "\n",
    "We further divide the feature space based on the type of shuffling methods applied to it.\n",
    "Then, we calculate their aggregated average scores using the `copairs` aggregate function.\n"
   ]
  },
  {
   "cell_type": "code",
   "execution_count": 3,
   "metadata": {},
   "outputs": [],
   "source": [
    "all_files = list(mAP_scores_dir.glob(\"*.csv\"))\n",
    "\n",
    "cp_sc_mAPs = []\n",
    "dp_sc_mAPs = []\n",
    "cp_dp_sc_mAPs = []\n",
    "for _file in all_files:\n",
    "    if _file.name.startswith(\"cp_dp\"):\n",
    "        cp_dp_sc_mAPs.append(pd.read_csv(_file))\n",
    "    elif _file.name.startswith(\"cp_\"):\n",
    "        dp_sc_mAPs.append(pd.read_csv(_file))\n",
    "    elif _file.name.startswith(\"dp_\"):\n",
    "        cp_sc_mAPs.append(pd.read_csv(_file))\n",
    "\n",
    "# single-cell mAP scores\n",
    "cp_sc_mAPs = pd.concat(cp_sc_mAPs)\n",
    "dp_sc_mAPs = pd.concat(dp_sc_mAPs)\n",
    "cp_dp_sc_mAPs = pd.concat(cp_dp_sc_mAPs)"
   ]
  },
  {
   "cell_type": "code",
   "execution_count": 4,
   "metadata": {},
   "outputs": [],
   "source": [
    "# Separating data frames: One by feature type (CP, DP, CP_DP)\n",
    "# Additional split is performed using a shuffling approach:\n",
    "# - feature_shuffled: feature values within the feature space are shuffled.\n",
    "# - phenotype_shuffled: phenotypic labels are shuffled.\n",
    "reg_cp_sc_mAPs = cp_sc_mAPs.loc[cp_sc_mAPs[\"shuffled\"] == \"non-shuffled\"]\n",
    "shuffled_feat_cp_sc_mAPs = cp_sc_mAPs.loc[cp_sc_mAPs[\"shuffled\"] == \"features_shuffled\"]\n",
    "shuffled_pheno_cp_sc_mAPs = cp_sc_mAPs.loc[cp_sc_mAPs[\"shuffled\"] == \"phenotype_shuffled\"]\n",
    "\n",
    "reg_dp_sc_mAPs = dp_sc_mAPs.loc[dp_sc_mAPs[\"shuffled\"] == \"non-shuffled\"]\n",
    "shuffled_feat_dp_sc_mAPs = dp_sc_mAPs.loc[dp_sc_mAPs[\"shuffled\"] == \"features_shuffled\"]\n",
    "shuffled_pheno_dp_sc_mAPs = dp_sc_mAPs.loc[dp_sc_mAPs[\"shuffled\"] == \"phenotype_shuffled\"]\n",
    "\n",
    "reg_cp_dp_sc_mAPs = cp_dp_sc_mAPs.loc[cp_dp_sc_mAPs[\"shuffled\"] == \"non-shuffled\"]\n",
    "shuffled_feat_cp_dp_sc_mAPs = cp_dp_sc_mAPs.loc[cp_dp_sc_mAPs[\"shuffled\"] == \"features_shuffled\"]\n",
    "shuffled_pheno_cp_dp_sc_mAPs = cp_dp_sc_mAPs.loc[cp_dp_sc_mAPs[\"shuffled\"] == \"phenotype_shuffled\"]"
   ]
  },
  {
   "cell_type": "code",
   "execution_count": 5,
   "metadata": {},
   "outputs": [],
   "source": [
    "# Generating aggregate scores with a threshold p-value of 0.05\n",
    "agg_reg_cp_sc_mAPs = aggregate(reg_cp_sc_mAPs, sameby=[\"Mitocheck_Phenotypic_Class\"], threshold=0.05)\n",
    "agg_shuffled_feat_cp_sc_mAPs = aggregate(shuffled_feat_cp_sc_mAPs, sameby=[\"Mitocheck_Phenotypic_Class\"], threshold=0.05)\n",
    "agg_shuffled_pheno_cp_sc_mAPs = aggregate(shuffled_pheno_cp_sc_mAPs, sameby=[\"Mitocheck_Phenotypic_Class\"], threshold=0.05)\n",
    "\n",
    "agg_reg_dp_sc_mAPs = aggregate(reg_dp_sc_mAPs, sameby=[\"Mitocheck_Phenotypic_Class\"], threshold=0.05)\n",
    "agg_shuffled_feat_dp_sc_mAPs = aggregate(shuffled_feat_dp_sc_mAPs, sameby=[\"Mitocheck_Phenotypic_Class\"], threshold=0.05)\n",
    "agg_shuffled_pheno_dp_sc_mAPs = aggregate(shuffled_pheno_dp_sc_mAPs, sameby=[\"Mitocheck_Phenotypic_Class\"], threshold=0.05)\n",
    "\n",
    "agg_reg_cp_dp_sc_mAPs = aggregate(reg_cp_dp_sc_mAPs, sameby=[\"Mitocheck_Phenotypic_Class\"], threshold=0.05)\n",
    "agg_shuffled_feat_cp_dp_sc_mAPs = aggregate(shuffled_feat_cp_dp_sc_mAPs, sameby=[\"Mitocheck_Phenotypic_Class\"], threshold=0.05)\n",
    "agg_shuffled_pheno_cp_dp_sc_mAPs = aggregate(shuffled_pheno_cp_dp_sc_mAPs, sameby=[\"Mitocheck_Phenotypic_Class\"], threshold=0.05)"
   ]
  },
  {
   "cell_type": "code",
   "execution_count": 6,
   "metadata": {},
   "outputs": [],
   "source": [
    "# saving aggregated scores into the folder\n",
    "save_dir = mAP_scores_dir / \"aggregated_mAPs\"\n",
    "\n",
    "agg_reg_cp_sc_mAPs.to_csv(agg_mAP_scores_dir / \"agg_reg_cp_sc_mAPs.csv\", index=False)\n",
    "agg_shuffled_feat_cp_sc_mAPs.to_csv(agg_mAP_scores_dir / \"agg_shuffled_feat_cp_sc_mAPs.csv\", index=False)\n",
    "agg_shuffled_pheno_cp_sc_mAPs.to_csv(agg_mAP_scores_dir / \"agg_shuffled_pheno_cp_sc_mAPs.csv\", index=False)\n",
    "\n",
    "agg_reg_dp_sc_mAPs.to_csv(agg_mAP_scores_dir / \"agg_reg_dp_sc_mAPs.csv\", index=False)\n",
    "agg_shuffled_feat_dp_sc_mAPs.to_csv(agg_mAP_scores_dir / \"agg_shuffled_feat_dp_sc_mAPs.csv\", index=False)\n",
    "agg_shuffled_pheno_dp_sc_mAPs.to_csv(agg_mAP_scores_dir / \"agg_shuffled_pheno_dp_sc_mAPs.csv\", index=False)\n",
    "\n",
    "agg_reg_cp_dp_sc_mAPs.to_csv(agg_mAP_scores_dir / \"agg_reg_cp_dp_sc_mAPs.csv\", index=False)\n",
    "agg_shuffled_feat_cp_dp_sc_mAPs.to_csv(agg_mAP_scores_dir / \"agg_shuffled_feat_cp_dp_sc_mAPs.csv\", index=False)\n",
    "agg_shuffled_pheno_cp_dp_sc_mAPs.to_csv(agg_mAP_scores_dir / \"agg_shuffled_pheno_cp_dp_sc_mAPs.csv\", index=False)"
   ]
  },
  {
   "cell_type": "markdown",
   "metadata": {},
   "source": [
    "# Forming bar plots "
   ]
  },
  {
   "cell_type": "code",
   "execution_count": null,
   "metadata": {},
   "outputs": [],
   "source": []
  }
 ],
 "metadata": {
  "kernelspec": {
   "display_name": "map",
   "language": "python",
   "name": "python3"
  },
  "language_info": {
   "codemirror_mode": {
    "name": "ipython",
    "version": 3
   },
   "file_extension": ".py",
   "mimetype": "text/x-python",
   "name": "python",
   "nbconvert_exporter": "python",
   "pygments_lexer": "ipython3",
   "version": "3.12.0"
  }
 },
 "nbformat": 4,
 "nbformat_minor": 2
}
