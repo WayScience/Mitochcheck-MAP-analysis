{
 "cells": [
  {
   "cell_type": "code",
   "execution_count": 1,
   "metadata": {},
   "outputs": [],
   "source": [
    "import pathlib\n",
    "import pandas as pd\n",
    "\n",
    "from copairs.map import aggregate"
   ]
  },
  {
   "cell_type": "code",
   "execution_count": 2,
   "metadata": {},
   "outputs": [],
   "source": [
    "# setting file paths are parameters\n",
    "MAP_SCORES_DIR = pathlib.Path(\"../data/processed/mAP_scores/\").resolve(strict=True)\n",
    "\n",
    "# outpath of aggregate scores\n",
    "AGG_OUT_DIR = pathlib.Path(\"../data/processed/aggregate_mAPs\")\n",
    "AGG_OUT_DIR.mkdir(exist_ok=True)"
   ]
  },
  {
   "cell_type": "code",
   "execution_count": 3,
   "metadata": {},
   "outputs": [],
   "source": [
    "# separate file paths based on types of features used:\n",
    "all_mAP_score_path = list(MAP_SCORES_DIR.glob(\"*.csv\"))\n",
    "\n",
    "cp_mAP_score_paths = []\n",
    "dp_mAP_score_paths = []\n",
    "cp_dp_mAP_score_paths = []\n",
    "for path in all_mAP_score_path:\n",
    "    if \"_cp_dp_\" in path.name:\n",
    "        cp_dp_mAP_score_paths.append(path)\n",
    "    elif \"_cp_\" in path.name:\n",
    "        cp_mAP_score_paths.append(path)\n",
    "    elif \"_dp_\" in path.name:\n",
    "        dp_mAP_score_paths.append(path)\n"
   ]
  },
  {
   "cell_type": "code",
   "execution_count": 4,
   "metadata": {},
   "outputs": [],
   "source": [
    "# now load all data into a dataframe\n",
    "all_cp_mAP_df = pd.concat([pd.read_csv(cp_mAP_path) for cp_mAP_path in cp_mAP_score_paths])\n",
    "all_dp_mAP_df = pd.concat([pd.read_csv(dp_mAP_path) for dp_mAP_path in dp_mAP_score_paths])\n",
    "all_cp_dp_mAP_df = pd.concat([pd.read_csv(cp_dp_mAP_path) for cp_dp_mAP_path in cp_dp_mAP_score_paths])"
   ]
  },
  {
   "cell_type": "code",
   "execution_count": 5,
   "metadata": {},
   "outputs": [],
   "source": [
    "# separate dataset based on if it is shuffled or not\n",
    "cp_mAP_df = all_cp_mAP_df.loc[~all_cp_mAP_df[\"shuffled\"]]\n",
    "shuffled_cp_mAP_df = all_cp_mAP_df.loc[all_cp_mAP_df[\"shuffled\"]]\n",
    "\n",
    "dp_mAP_df = all_dp_mAP_df.loc[~all_dp_mAP_df[\"shuffled\"]]\n",
    "shuffled_dp_mAP_df = all_dp_mAP_df.loc[all_dp_mAP_df[\"shuffled\"]]\n",
    "\n",
    "cp_dp_mAP_df = all_cp_dp_mAP_df.loc[~all_cp_dp_mAP_df[\"shuffled\"]]\n",
    "shuffled_cp_dp_mAP_df = all_cp_dp_mAP_df.loc[all_cp_dp_mAP_df[\"shuffled\"]]"
   ]
  },
  {
   "cell_type": "code",
   "execution_count": 11,
   "metadata": {},
   "outputs": [],
   "source": [
    "# Two dataframes are created per feature since there is a shuffle and non-shuffled datasets\n",
    "# next we aggregate the single cell results based on the phenotype to get the scores\n",
    "aggregated_cp_aMP_scores = aggregate(cp_mAP_df, sameby=[\"Mitocheck_Phenotypic_Class\"], threshold=0.05)\n",
    "aggregated_cp_aMP_scores[\"shuffled\"] = False\n",
    "aggregated_cp_aMP_scores[\"feature_type\"] = \"CP\"\n",
    "\n",
    "aggregated_shuffled_cp_aMP_scores = aggregate(shuffled_cp_mAP_df, sameby=[\"Mitocheck_Phenotypic_Class\"], threshold=0.5)\n",
    "aggregated_shuffled_cp_aMP_scores[\"shuffled\"] = True\n",
    "aggregated_shuffled_cp_aMP_scores[\"feature_type\"] = \"CP\"\n",
    "\n",
    "aggregated_dp_aMP_scores = aggregate(dp_mAP_df, sameby=[\"Mitocheck_Phenotypic_Class\"], threshold=0.05)\n",
    "aggregated_dp_aMP_scores[\"shuffled\"] = False\n",
    "aggregated_dp_aMP_scores[\"feature_type\"] = \"DP\"\n",
    "\n",
    "aggregated_shuffled_dp_aMP_scores = aggregate(shuffled_dp_mAP_df, sameby=[\"Mitocheck_Phenotypic_Class\"], threshold=0.05)\n",
    "aggregated_shuffled_dp_aMP_scores[\"shuffled\"] = True\n",
    "aggregated_shuffled_dp_aMP_scores[\"feature_type\"] = \"DP\"\n",
    "\n",
    "aggregated_cp_dp_aMP_scores = aggregate(cp_dp_mAP_df, sameby=[\"Mitocheck_Phenotypic_Class\"], threshold=0.05)\n",
    "aggregated_cp_dp_aMP_scores[\"shuffled\"] = False\n",
    "aggregated_cp_dp_aMP_scores[\"feature_type\"] = \"CP_DP\"\n",
    "\n",
    "shuffle_aggregated_cp_dp_aMP_scores = aggregate(shuffled_cp_dp_mAP_df, sameby=[\"Mitocheck_Phenotypic_Class\"], threshold=0.05)\n",
    "shuffle_aggregated_cp_dp_aMP_scores[\"shuffled\"] = True\n",
    "shuffle_aggregated_cp_dp_aMP_scores[\"feature_type\"] = \"CP_DP\""
   ]
  },
  {
   "cell_type": "code",
   "execution_count": 20,
   "metadata": {},
   "outputs": [],
   "source": [
    "# saving the non-aggregated dataset\n",
    "cp_mAP_df.to_csv(AGG_OUT_DIR / \"cp_aMP_scores_notshuffled.csv\", index=False)\n",
    "shuffled_cp_mAP_df.to_csv(AGG_OUT_DIR / \"cp_aMP_scores_shuffled.csv\", index=False)\n",
    "\n",
    "dp_mAP_df.to_csv(AGG_OUT_DIR / \"dp_aMP_scores_notshuffled.csv\", index=False)\n",
    "shuffled_dp_mAP_df.to_csv(AGG_OUT_DIR / \"dp_aMP_scores_shuffled.csv\", index=False)\n",
    "\n",
    "cp_dp_mAP_df.to_csv(AGG_OUT_DIR / \"cp_dp_aMP_scores_notshuffled.csv\", index=False)\n",
    "shuffled_cp_dp_mAP_df.to_csv(AGG_OUT_DIR / \"shuffled_cp_dp_aMP_scores_notshuffled.csv\", index=False)\n",
    "\n",
    "# saving the aggregated files\n",
    "aggregated_cp_aMP_scores.to_csv(AGG_OUT_DIR / \"aggregated_cp_aMP_notshuffled_scores.csv\", index=False)\n",
    "aggregated_shuffled_cp_aMP_scores.to_csv(AGG_OUT_DIR / \"aggregated_cp_aMP_shuffled_scores.csv\", index=False)\n",
    "\n",
    "aggregated_dp_aMP_scores.to_csv(AGG_OUT_DIR / \"aggregated_dp_aMP_notshuffled_scores.csv\", index=False)\n",
    "aggregated_shuffled_dp_aMP_scores.to_csv(AGG_OUT_DIR / \"aggregated_cp_aMP_shuffled_scores.csv\", index=False)\n",
    "\n",
    "aggregated_cp_dp_aMP_scores.to_csv(AGG_OUT_DIR / \"aggregated_cp_dp_aMP_notshuffled_scores.csv\", index=False)\n",
    "shuffle_aggregated_cp_dp_aMP_scores.to_csv(AGG_OUT_DIR / \"aggregated_cp_dp_aMP_shuffled_scores.csv\", index=False)"
   ]
  },
  {
   "cell_type": "code",
   "execution_count": null,
   "metadata": {},
   "outputs": [],
   "source": []
  }
 ],
 "metadata": {
  "kernelspec": {
   "display_name": "map",
   "language": "python",
   "name": "python3"
  },
  "language_info": {
   "codemirror_mode": {
    "name": "ipython",
    "version": 3
   },
   "file_extension": ".py",
   "mimetype": "text/x-python",
   "name": "python",
   "nbconvert_exporter": "python",
   "pygments_lexer": "ipython3",
   "version": "3.12.0"
  }
 },
 "nbformat": 4,
 "nbformat_minor": 2
}
