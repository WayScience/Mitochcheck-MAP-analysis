{
 "cells": [
  {
   "cell_type": "code",
   "execution_count": 1,
   "metadata": {},
   "outputs": [],
   "source": [
    "import pathlib\n",
    "import pandas as pd\n",
    "\n",
    "from copairs.map import aggregate"
   ]
  },
  {
   "cell_type": "code",
   "execution_count": 2,
   "metadata": {},
   "outputs": [],
   "source": [
    "# setting file paths are parameters\n",
    "MAP_SCORES_DIR = pathlib.Path(\"../data/processed/mAP_scores/\").resolve(strict=True)\n",
    "\n",
    "# outpath of aggregate scores\n",
    "AGG_OUT_DIR = pathlib.Path(\"../data/processed/aggregate_mAPs\")\n",
    "AGG_OUT_DIR.mkdir(exist_ok=True)"
   ]
  },
  {
   "cell_type": "code",
   "execution_count": 3,
   "metadata": {},
   "outputs": [],
   "source": [
    "# loading all map csv into a single dataframe\n",
    "all_mAP_dfs = pd.concat([pd.read_csv(map_path) for map_path in MAP_SCORES_DIR.glob(\"*.csv\")])\n",
    "\n",
    "# sepearet dfs to shuffled and unshuffled\n",
    "map_scores = all_mAP_dfs.loc[~all_mAP_dfs[\"shuffled\"]]\n",
    "shuffled_maps_scores = all_mAP_dfs.loc[all_mAP_dfs[\"shuffled\"]]\n",
    "\n",
    "aggregate_map_scores = aggregate(map_scores, sameby=[\"Mitocheck_Phenotypic_Class\"], threshold=0.05)\n",
    "aggregate_map_scores[\"shuffled\"] = False\n",
    "\n",
    "aggregate_shuffled_maps_scores= aggregate(shuffled_maps_scores, sameby=[\"Mitocheck_Phenotypic_Class\"], threshold=0.05)\n",
    "aggregate_shuffled_maps_scores[\"shuffled\"] = True"
   ]
  },
  {
   "cell_type": "code",
   "execution_count": 4,
   "metadata": {},
   "outputs": [],
   "source": [
    "# saving the non-agregated scores\n",
    "map_scores.to_csv(AGG_OUT_DIR / \"all_mAP_scores.csv\", index=False)\n",
    "shuffled_maps_scores.to_csv(AGG_OUT_DIR / \"all_mAP_scores_shuffled.csv\", index=False)\n",
    "\n",
    "# saving aggregate scores\n",
    "aggregate_map_scores.to_csv(AGG_OUT_DIR / \"aggregated_mAP_scores.csv\", index=False)\n",
    "aggregate_shuffled_maps_scores.to_csv(AGG_OUT_DIR / \"aggregated_mAP_scores_shuffled.csv\", index=False)"
   ]
  }
 ],
 "metadata": {
  "kernelspec": {
   "display_name": "map",
   "language": "python",
   "name": "python3"
  },
  "language_info": {
   "codemirror_mode": {
    "name": "ipython",
    "version": 3
   },
   "file_extension": ".py",
   "mimetype": "text/x-python",
   "name": "python",
   "nbconvert_exporter": "python",
   "pygments_lexer": "ipython3",
   "version": "3.12.0"
  }
 },
 "nbformat": 4,
 "nbformat_minor": 2
}
