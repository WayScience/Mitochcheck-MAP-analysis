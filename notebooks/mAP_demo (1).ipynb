{
 "cells": [
  {
   "cell_type": "markdown",
   "id": "2c84ec07-2bf5-411b-bae0-a0b56c7b98be",
   "metadata": {},
   "source": [
    "# mAP computation demo\n",
    "## Enable logging"
   ]
  },
  {
   "cell_type": "code",
   "execution_count": 1,
   "id": "d90b8e2a-690b-484d-b2e3-f25937e70194",
   "metadata": {
    "tags": []
   },
   "outputs": [],
   "source": [
    "import logging\n",
    "logging.basicConfig(format='%(levelname)s:%(asctime)s:%(name)s:%(message)s')\n",
    "logging.getLogger(\"copairs\").setLevel(logging.INFO)"
   ]
  },
  {
   "cell_type": "code",
   "execution_count": 2,
   "id": "0ea6722f-2078-468e-8bc6-129f9d5f1dae",
   "metadata": {
    "tags": []
   },
   "outputs": [],
   "source": [
    "import pandas as pd\n",
    "import numpy as np\n",
    "from copairs.map import run_pipeline"
   ]
  },
  {
   "cell_type": "markdown",
   "id": "d3e4adb5-d607-4eb9-918c-f2653c7eceae",
   "metadata": {},
   "source": [
    "## Utils functions"
   ]
  },
  {
   "cell_type": "code",
   "execution_count": 3,
   "id": "c1d4c153-9448-49ec-892d-6acf98093382",
   "metadata": {
    "tags": []
   },
   "outputs": [],
   "source": [
    "plate_col = 'Metadata_Plate'\n",
    "well_col = 'Metadata_Well'\n",
    "pert_col = 'Metadata_JCP2022'\n",
    "\n",
    "def mock_plates(n_plates, n_wells, n_perts, seed=0):\n",
    "    rng = np.random.default_rng(seed)\n",
    "    n_tries = (n_plates * n_wells * n_perts) * 3\n",
    "    n_feats = 3\n",
    "    dframe = pd.DataFrame({\n",
    "        plate_col: rng.choice([f'p{i}' for i in range(n_plates)], n_tries),\n",
    "        well_col: rng.choice([f'w{i}' for i in range(n_wells)], n_tries),\n",
    "        pert_col: rng.choice([f'c{i}' for i in range(n_perts)], n_tries)\n",
    "    })\n",
    "\n",
    "    dframe = dframe.drop_duplicates([plate_col, well_col])\n",
    "    dframe = dframe.sort_values(by=[plate_col, well_col, pert_col])\n",
    "    dframe = dframe.reset_index(drop=True)\n",
    "    feats = rng.uniform(size=(dframe.shape[0], n_feats))\n",
    "    return dframe, feats"
   ]
  },
  {
   "cell_type": "markdown",
   "id": "0bbf1339-cc68-4a17-848a-5bb252603683",
   "metadata": {},
   "source": [
    "## Create a mock dataset\n",
    "Creating a mock dataset with 3 plates, 5 wells per each plate, and 4 different perturbations"
   ]
  },
  {
   "cell_type": "code",
   "execution_count": 4,
   "id": "5ed0bd85-ad08-404f-98ef-25cc932d6b60",
   "metadata": {
    "tags": []
   },
   "outputs": [
    {
     "data": {
      "text/html": [
       "<div>\n",
       "<style scoped>\n",
       "    .dataframe tbody tr th:only-of-type {\n",
       "        vertical-align: middle;\n",
       "    }\n",
       "\n",
       "    .dataframe tbody tr th {\n",
       "        vertical-align: top;\n",
       "    }\n",
       "\n",
       "    .dataframe thead th {\n",
       "        text-align: right;\n",
       "    }\n",
       "</style>\n",
       "<table border=\"1\" class=\"dataframe\">\n",
       "  <thead>\n",
       "    <tr style=\"text-align: right;\">\n",
       "      <th></th>\n",
       "      <th>Metadata_Plate</th>\n",
       "      <th>Metadata_Well</th>\n",
       "      <th>Metadata_JCP2022</th>\n",
       "    </tr>\n",
       "  </thead>\n",
       "  <tbody>\n",
       "    <tr>\n",
       "      <th>0</th>\n",
       "      <td>p0</td>\n",
       "      <td>w0</td>\n",
       "      <td>c0</td>\n",
       "    </tr>\n",
       "    <tr>\n",
       "      <th>1</th>\n",
       "      <td>p0</td>\n",
       "      <td>w1</td>\n",
       "      <td>c2</td>\n",
       "    </tr>\n",
       "    <tr>\n",
       "      <th>2</th>\n",
       "      <td>p0</td>\n",
       "      <td>w2</td>\n",
       "      <td>c2</td>\n",
       "    </tr>\n",
       "    <tr>\n",
       "      <th>3</th>\n",
       "      <td>p0</td>\n",
       "      <td>w3</td>\n",
       "      <td>c1</td>\n",
       "    </tr>\n",
       "    <tr>\n",
       "      <th>4</th>\n",
       "      <td>p0</td>\n",
       "      <td>w4</td>\n",
       "      <td>c0</td>\n",
       "    </tr>\n",
       "    <tr>\n",
       "      <th>5</th>\n",
       "      <td>p1</td>\n",
       "      <td>w0</td>\n",
       "      <td>c1</td>\n",
       "    </tr>\n",
       "    <tr>\n",
       "      <th>6</th>\n",
       "      <td>p1</td>\n",
       "      <td>w1</td>\n",
       "      <td>c2</td>\n",
       "    </tr>\n",
       "    <tr>\n",
       "      <th>7</th>\n",
       "      <td>p1</td>\n",
       "      <td>w2</td>\n",
       "      <td>c2</td>\n",
       "    </tr>\n",
       "    <tr>\n",
       "      <th>8</th>\n",
       "      <td>p1</td>\n",
       "      <td>w3</td>\n",
       "      <td>c3</td>\n",
       "    </tr>\n",
       "    <tr>\n",
       "      <th>9</th>\n",
       "      <td>p1</td>\n",
       "      <td>w4</td>\n",
       "      <td>c3</td>\n",
       "    </tr>\n",
       "    <tr>\n",
       "      <th>10</th>\n",
       "      <td>p2</td>\n",
       "      <td>w0</td>\n",
       "      <td>c3</td>\n",
       "    </tr>\n",
       "    <tr>\n",
       "      <th>11</th>\n",
       "      <td>p2</td>\n",
       "      <td>w1</td>\n",
       "      <td>c3</td>\n",
       "    </tr>\n",
       "    <tr>\n",
       "      <th>12</th>\n",
       "      <td>p2</td>\n",
       "      <td>w2</td>\n",
       "      <td>c3</td>\n",
       "    </tr>\n",
       "    <tr>\n",
       "      <th>13</th>\n",
       "      <td>p2</td>\n",
       "      <td>w3</td>\n",
       "      <td>c2</td>\n",
       "    </tr>\n",
       "    <tr>\n",
       "      <th>14</th>\n",
       "      <td>p2</td>\n",
       "      <td>w4</td>\n",
       "      <td>c2</td>\n",
       "    </tr>\n",
       "  </tbody>\n",
       "</table>\n",
       "</div>"
      ],
      "text/plain": [
       "   Metadata_Plate Metadata_Well Metadata_JCP2022\n",
       "0              p0            w0               c0\n",
       "1              p0            w1               c2\n",
       "2              p0            w2               c2\n",
       "3              p0            w3               c1\n",
       "4              p0            w4               c0\n",
       "5              p1            w0               c1\n",
       "6              p1            w1               c2\n",
       "7              p1            w2               c2\n",
       "8              p1            w3               c3\n",
       "9              p1            w4               c3\n",
       "10             p2            w0               c3\n",
       "11             p2            w1               c3\n",
       "12             p2            w2               c3\n",
       "13             p2            w3               c2\n",
       "14             p2            w4               c2"
      ]
     },
     "execution_count": 4,
     "metadata": {},
     "output_type": "execute_result"
    }
   ],
   "source": [
    "# this is similar to Roshans's code\n",
    "n_plates, n_wells, n_perts = 3, 5, 4\n",
    "dframe, feats = mock_plates(n_plates, n_wells, n_perts)\n",
    "dframe"
   ]
  },
  {
   "cell_type": "markdown",
   "id": "9c83d377-48bd-48ba-a557-21f25edaef8a",
   "metadata": {},
   "source": [
    "## Define params to compute map"
   ]
  },
  {
   "cell_type": "code",
   "execution_count": 5,
   "id": "5fb77050-ccf1-4e30-9676-5b84236cd824",
   "metadata": {
    "tags": []
   },
   "outputs": [],
   "source": [
    "pos_sameby = [pert_col]\n",
    "pos_diffby = [plate_col, well_col]\n",
    "\n",
    "neg_sameby = [plate_col]\n",
    "neg_diffby = [pert_col]\n",
    "null_size =10000"
   ]
  },
  {
   "cell_type": "code",
   "execution_count": 6,
   "metadata": {},
   "outputs": [
    {
     "data": {
      "text/plain": [
       "['Metadata_JCP2022']"
      ]
     },
     "execution_count": 6,
     "metadata": {},
     "output_type": "execute_result"
    }
   ],
   "source": [
    "pos_sameby"
   ]
  },
  {
   "cell_type": "code",
   "execution_count": 7,
   "metadata": {},
   "outputs": [
    {
     "name": "stdout",
     "output_type": "stream",
     "text": [
      "positive\n",
      "['Metadata_JCP2022']\n",
      "['Metadata_Plate', 'Metadata_Well']\n",
      "negative\n",
      "['Metadata_Plate']\n",
      "['Metadata_JCP2022']\n"
     ]
    }
   ],
   "source": [
    "print(\"positive\")\n",
    "print(pos_sameby)\n",
    "print(pos_diffby)\n",
    "\n",
    "print(\"negative\")\n",
    "print(neg_sameby)\n",
    "print(neg_diffby)"
   ]
  },
  {
   "cell_type": "code",
   "execution_count": 8,
   "metadata": {},
   "outputs": [
    {
     "data": {
      "text/plain": [
       "array([[0.74438073, 0.85187591, 0.13893168],\n",
       "       [0.70378577, 0.82110309, 0.98182832],\n",
       "       [0.84379056, 0.42410649, 0.97968871],\n",
       "       [0.9739844 , 0.50367698, 0.75344654],\n",
       "       [0.91383767, 0.47614707, 0.86378624],\n",
       "       [0.70156857, 0.29392426, 0.76765227],\n",
       "       [0.57068479, 0.09384515, 0.39138043],\n",
       "       [0.07374101, 0.47616696, 0.42853961],\n",
       "       [0.42373744, 0.58630035, 0.12269066],\n",
       "       [0.93376891, 0.68405045, 0.82378136],\n",
       "       [0.89680123, 0.58332005, 0.04021822],\n",
       "       [0.71148682, 0.56902585, 0.82595722],\n",
       "       [0.53216047, 0.8132441 , 0.99701029],\n",
       "       [0.35055481, 0.17102144, 0.3916748 ],\n",
       "       [0.75304999, 0.43922893, 0.58838011]])"
      ]
     },
     "execution_count": 8,
     "metadata": {},
     "output_type": "execute_result"
    }
   ],
   "source": [
    "feats"
   ]
  },
  {
   "cell_type": "code",
   "execution_count": 9,
   "id": "6f86a540-a046-454f-8c97-c1ce26034e43",
   "metadata": {
    "tags": []
   },
   "outputs": [
    {
     "name": "stderr",
     "output_type": "stream",
     "text": [
      "INFO:2023-12-14 22:37:46,247:copairs:Indexing metadata...\n",
      "INFO:2023-12-14 22:37:46,255:copairs:Finding positive pairs...\n",
      "INFO:2023-12-14 22:37:46,257:copairs:Finding negative pairs...\n"
     ]
    },
    {
     "name": "stdout",
     "output_type": "stream",
     "text": [
      "finding pos pairs\n",
      "from samby['all']\n",
      "{'c1': [(3, 5)], 'c2': [(1, 13), (1, 14), (1, 7), (2, 13), (2, 14), (2, 6), (6, 13), (6, 14), (7, 13), (7, 14)], 'c3': [(8, 10), (8, 11), (8, 12), (9, 10), (9, 11), (9, 12)]}\n",
      "{'c1': [(3, 5)], 'c2': [(1, 13), (1, 14), (1, 7), (2, 13), (2, 14), (2, 6), (6, 13), (6, 14), (7, 13), (7, 14)], 'c3': [(8, 10), (8, 11), (8, 12), (9, 10), (9, 11), (9, 12)]}\n",
      "finding neg pairs\n",
      "from samby['all']\n",
      "{'p0': [(0, 1), (0, 2), (0, 3), (1, 3), (1, 4), (2, 3), (2, 4), (3, 4)], 'p1': [(5, 8), (5, 9), (5, 6), (5, 7), (6, 8), (6, 9), (7, 8), (7, 9)], 'p2': [(10, 13), (10, 14), (11, 13), (11, 14), (12, 13), (12, 14)]}\n",
      "{'p0': [(0, 1), (0, 2), (0, 3), (1, 3), (1, 4), (2, 3), (2, 4), (3, 4)], 'p1': [(5, 8), (5, 9), (5, 6), (5, 7), (6, 8), (6, 9), (7, 8), (7, 9)], 'p2': [(10, 13), (10, 14), (11, 13), (11, 14), (12, 13), (12, 14)]}\n"
     ]
    }
   ],
   "source": [
    "result = run_pipeline(dframe, feats,\n",
    "                      pos_sameby, pos_diffby,\n",
    "                      neg_sameby, neg_diffby,\n",
    "                      null_size\n",
    "                     )"
   ]
  },
  {
   "cell_type": "code",
   "execution_count": 7,
   "id": "cbab4d3b-1d76-42e8-a502-9c615fef7177",
   "metadata": {
    "tags": []
   },
   "outputs": [
    {
     "data": {
      "text/html": [
       "<div>\n",
       "<style scoped>\n",
       "    .dataframe tbody tr th:only-of-type {\n",
       "        vertical-align: middle;\n",
       "    }\n",
       "\n",
       "    .dataframe tbody tr th {\n",
       "        vertical-align: top;\n",
       "    }\n",
       "\n",
       "    .dataframe thead th {\n",
       "        text-align: right;\n",
       "    }\n",
       "</style>\n",
       "<table border=\"1\" class=\"dataframe\">\n",
       "  <thead>\n",
       "    <tr style=\"text-align: right;\">\n",
       "      <th></th>\n",
       "      <th>Metadata_Plate</th>\n",
       "      <th>Metadata_Well</th>\n",
       "      <th>Metadata_JCP2022</th>\n",
       "      <th>p_value</th>\n",
       "      <th>null_dists</th>\n",
       "      <th>average_precision</th>\n",
       "    </tr>\n",
       "  </thead>\n",
       "  <tbody>\n",
       "    <tr>\n",
       "      <th>0</th>\n",
       "      <td>p0</td>\n",
       "      <td>w0</td>\n",
       "      <td>c0</td>\n",
       "      <td>0.000100</td>\n",
       "      <td>[nan, nan, nan, nan, nan, nan, nan, nan, nan, ...</td>\n",
       "      <td>NaN</td>\n",
       "    </tr>\n",
       "    <tr>\n",
       "      <th>1</th>\n",
       "      <td>p0</td>\n",
       "      <td>w1</td>\n",
       "      <td>c2</td>\n",
       "      <td>0.556044</td>\n",
       "      <td>[0.7222222222222222, 0.41111111111111115, 0.46...</td>\n",
       "      <td>0.588889</td>\n",
       "    </tr>\n",
       "    <tr>\n",
       "      <th>2</th>\n",
       "      <td>p0</td>\n",
       "      <td>w2</td>\n",
       "      <td>c2</td>\n",
       "      <td>0.357764</td>\n",
       "      <td>[0.8333333333333334, 1.0, 0.6666666666666666, ...</td>\n",
       "      <td>0.700000</td>\n",
       "    </tr>\n",
       "    <tr>\n",
       "      <th>3</th>\n",
       "      <td>p0</td>\n",
       "      <td>w3</td>\n",
       "      <td>c1</td>\n",
       "      <td>0.198180</td>\n",
       "      <td>[0.25, 0.5, 1.0, 1.0, 0.25, 0.5, 0.5, 0.2, 1.0...</td>\n",
       "      <td>0.500000</td>\n",
       "    </tr>\n",
       "    <tr>\n",
       "      <th>4</th>\n",
       "      <td>p0</td>\n",
       "      <td>w4</td>\n",
       "      <td>c0</td>\n",
       "      <td>0.000100</td>\n",
       "      <td>[nan, nan, nan, nan, nan, nan, nan, nan, nan, ...</td>\n",
       "      <td>NaN</td>\n",
       "    </tr>\n",
       "    <tr>\n",
       "      <th>5</th>\n",
       "      <td>p1</td>\n",
       "      <td>w0</td>\n",
       "      <td>c1</td>\n",
       "      <td>0.000100</td>\n",
       "      <td>[1.0, 0.2, 0.3333333333333333, 0.2, 1.0, 1.0, ...</td>\n",
       "      <td>1.000000</td>\n",
       "    </tr>\n",
       "    <tr>\n",
       "      <th>6</th>\n",
       "      <td>p1</td>\n",
       "      <td>w1</td>\n",
       "      <td>c2</td>\n",
       "      <td>0.446855</td>\n",
       "      <td>[0.5888888888888889, 0.7000000000000001, 0.866...</td>\n",
       "      <td>0.638889</td>\n",
       "    </tr>\n",
       "    <tr>\n",
       "      <th>7</th>\n",
       "      <td>p1</td>\n",
       "      <td>w2</td>\n",
       "      <td>c2</td>\n",
       "      <td>0.255174</td>\n",
       "      <td>[0.8333333333333334, 1.0, 0.6666666666666666, ...</td>\n",
       "      <td>0.755556</td>\n",
       "    </tr>\n",
       "    <tr>\n",
       "      <th>8</th>\n",
       "      <td>p1</td>\n",
       "      <td>w3</td>\n",
       "      <td>c3</td>\n",
       "      <td>0.000100</td>\n",
       "      <td>[0.8333333333333334, 1.0, 0.6666666666666666, ...</td>\n",
       "      <td>1.000000</td>\n",
       "    </tr>\n",
       "    <tr>\n",
       "      <th>9</th>\n",
       "      <td>p1</td>\n",
       "      <td>w4</td>\n",
       "      <td>c3</td>\n",
       "      <td>0.255174</td>\n",
       "      <td>[0.8333333333333334, 1.0, 0.6666666666666666, ...</td>\n",
       "      <td>0.755556</td>\n",
       "    </tr>\n",
       "    <tr>\n",
       "      <th>10</th>\n",
       "      <td>p2</td>\n",
       "      <td>w0</td>\n",
       "      <td>c3</td>\n",
       "      <td>0.170283</td>\n",
       "      <td>[0.75, 0.5, 0.75, 0.5833333333333333, 0.416666...</td>\n",
       "      <td>0.833333</td>\n",
       "    </tr>\n",
       "    <tr>\n",
       "      <th>11</th>\n",
       "      <td>p2</td>\n",
       "      <td>w1</td>\n",
       "      <td>c3</td>\n",
       "      <td>0.333567</td>\n",
       "      <td>[0.5833333333333333, 0.5833333333333333, 0.833...</td>\n",
       "      <td>0.750000</td>\n",
       "    </tr>\n",
       "    <tr>\n",
       "      <th>12</th>\n",
       "      <td>p2</td>\n",
       "      <td>w2</td>\n",
       "      <td>c3</td>\n",
       "      <td>0.331867</td>\n",
       "      <td>[0.41666666666666663, 1.0, 0.5833333333333333,...</td>\n",
       "      <td>0.750000</td>\n",
       "    </tr>\n",
       "    <tr>\n",
       "      <th>13</th>\n",
       "      <td>p2</td>\n",
       "      <td>w3</td>\n",
       "      <td>c2</td>\n",
       "      <td>0.285571</td>\n",
       "      <td>[0.8928571428571428, 0.8166666666666667, 0.916...</td>\n",
       "      <td>0.770833</td>\n",
       "    </tr>\n",
       "    <tr>\n",
       "      <th>14</th>\n",
       "      <td>p2</td>\n",
       "      <td>w4</td>\n",
       "      <td>c2</td>\n",
       "      <td>0.599240</td>\n",
       "      <td>[0.6791666666666667, 0.5011904761904762, 0.667...</td>\n",
       "      <td>0.622024</td>\n",
       "    </tr>\n",
       "  </tbody>\n",
       "</table>\n",
       "</div>"
      ],
      "text/plain": [
       "   Metadata_Plate Metadata_Well Metadata_JCP2022   p_value   \n",
       "0              p0            w0               c0  0.000100  \\\n",
       "1              p0            w1               c2  0.556044   \n",
       "2              p0            w2               c2  0.357764   \n",
       "3              p0            w3               c1  0.198180   \n",
       "4              p0            w4               c0  0.000100   \n",
       "5              p1            w0               c1  0.000100   \n",
       "6              p1            w1               c2  0.446855   \n",
       "7              p1            w2               c2  0.255174   \n",
       "8              p1            w3               c3  0.000100   \n",
       "9              p1            w4               c3  0.255174   \n",
       "10             p2            w0               c3  0.170283   \n",
       "11             p2            w1               c3  0.333567   \n",
       "12             p2            w2               c3  0.331867   \n",
       "13             p2            w3               c2  0.285571   \n",
       "14             p2            w4               c2  0.599240   \n",
       "\n",
       "                                           null_dists  average_precision  \n",
       "0   [nan, nan, nan, nan, nan, nan, nan, nan, nan, ...                NaN  \n",
       "1   [0.7222222222222222, 0.41111111111111115, 0.46...           0.588889  \n",
       "2   [0.8333333333333334, 1.0, 0.6666666666666666, ...           0.700000  \n",
       "3   [0.25, 0.5, 1.0, 1.0, 0.25, 0.5, 0.5, 0.2, 1.0...           0.500000  \n",
       "4   [nan, nan, nan, nan, nan, nan, nan, nan, nan, ...                NaN  \n",
       "5   [1.0, 0.2, 0.3333333333333333, 0.2, 1.0, 1.0, ...           1.000000  \n",
       "6   [0.5888888888888889, 0.7000000000000001, 0.866...           0.638889  \n",
       "7   [0.8333333333333334, 1.0, 0.6666666666666666, ...           0.755556  \n",
       "8   [0.8333333333333334, 1.0, 0.6666666666666666, ...           1.000000  \n",
       "9   [0.8333333333333334, 1.0, 0.6666666666666666, ...           0.755556  \n",
       "10  [0.75, 0.5, 0.75, 0.5833333333333333, 0.416666...           0.833333  \n",
       "11  [0.5833333333333333, 0.5833333333333333, 0.833...           0.750000  \n",
       "12  [0.41666666666666663, 1.0, 0.5833333333333333,...           0.750000  \n",
       "13  [0.8928571428571428, 0.8166666666666667, 0.916...           0.770833  \n",
       "14  [0.6791666666666667, 0.5011904761904762, 0.667...           0.622024  "
      ]
     },
     "execution_count": 7,
     "metadata": {},
     "output_type": "execute_result"
    }
   ],
   "source": [
    "result"
   ]
  },
  {
   "cell_type": "markdown",
   "id": "2fbb0a43",
   "metadata": {},
   "source": [
    "<div class=\"alert alert-warning\">\n",
    "    WARNING: <code>NaN</code> average precision mean such rows do not have any valid match.\n",
    "</div>"
   ]
  },
  {
   "cell_type": "markdown",
   "id": "9aa1c547-7824-4d61-9d93-5be66b384915",
   "metadata": {
    "tags": []
   },
   "source": [
    "# Aggregating p-values\n",
    "\n",
    "For every sample in the dataset you have one associated `average_precision` score and the corresponding `p_value`. You may want to aggregate those results while correcting for false discoveries.\n",
    "\n",
    "## Create a larger dataset"
   ]
  },
  {
   "cell_type": "code",
   "execution_count": 11,
   "id": "1752a121-0848-4d95-a956-5eb32e6bd383",
   "metadata": {
    "tags": []
   },
   "outputs": [
    {
     "name": "stderr",
     "output_type": "stream",
     "text": [
      "INFO:2023-12-05 22:27:33,244:copairs:Indexing metadata...\n",
      "INFO:2023-12-05 22:27:33,251:copairs:Finding positive pairs...\n",
      "INFO:2023-12-05 22:27:33,268:copairs:Finding negative pairs...\n",
      "INFO:2023-12-05 22:27:33,432:copairs:Computing positive similarities...\n"
     ]
    },
    {
     "data": {
      "application/vnd.jupyter.widget-view+json": {
       "model_id": "caa1914e6e80471c9f317fc539585855",
       "version_major": 2,
       "version_minor": 0
      },
      "text/plain": [
       "  0%|          | 0/1 [00:00<?, ?it/s]"
      ]
     },
     "metadata": {},
     "output_type": "display_data"
    },
    {
     "name": "stderr",
     "output_type": "stream",
     "text": [
      "INFO:2023-12-05 22:27:33,442:copairs:Computing negative similarities...\n"
     ]
    },
    {
     "data": {
      "application/vnd.jupyter.widget-view+json": {
       "model_id": "474b92e2d8d74fe49e6cfa0cca6d5509",
       "version_major": 2,
       "version_minor": 0
      },
      "text/plain": [
       "  0%|          | 0/15 [00:00<?, ?it/s]"
      ]
     },
     "metadata": {},
     "output_type": "display_data"
    },
    {
     "name": "stderr",
     "output_type": "stream",
     "text": [
      "INFO:2023-12-05 22:27:33,465:copairs:Building rank lists...\n",
      "INFO:2023-12-05 22:27:33,577:copairs:Computing average precision...\n",
      "INFO:2023-12-05 22:27:33,595:copairs:Computing p-values...\n"
     ]
    },
    {
     "data": {
      "application/vnd.jupyter.widget-view+json": {
       "model_id": "b60d7458d3364cb2aeb64b23ce06c307",
       "version_major": 2,
       "version_minor": 0
      },
      "text/plain": [
       "  0%|          | 0/150 [00:00<?, ?it/s]"
      ]
     },
     "metadata": {},
     "output_type": "display_data"
    },
    {
     "name": "stderr",
     "output_type": "stream",
     "text": [
      "INFO:2023-12-05 22:27:37,987:copairs:Creating result DataFrame...\n",
      "INFO:2023-12-05 22:27:37,990:copairs:Finished.\n"
     ]
    }
   ],
   "source": [
    "n_plates, n_wells, n_perts = 4, 384, 50\n",
    "pos_sameby = [pert_col]\n",
    "pos_diffby = [plate_col, well_col]\n",
    "\n",
    "neg_sameby = [plate_col]\n",
    "neg_diffby = [pert_col]\n",
    "null_size =10000\n",
    "\n",
    "dframe, feats = mock_plates(n_plates, n_wells, n_perts)\n",
    "result = run_pipeline(dframe, feats,\n",
    "                      pos_sameby, pos_diffby,\n",
    "                      neg_sameby, neg_diffby,\n",
    "                      null_size\n",
    "                     )"
   ]
  },
  {
   "cell_type": "markdown",
   "id": "9c89a7dc",
   "metadata": {},
   "source": [
    "## Aggregate average precision and p-values"
   ]
  },
  {
   "cell_type": "code",
   "execution_count": 12,
   "id": "ac882676-e11e-4072-97e3-9968aee7b265",
   "metadata": {
    "tags": []
   },
   "outputs": [
    {
     "data": {
      "text/html": [
       "<div>\n",
       "<style scoped>\n",
       "    .dataframe tbody tr th:only-of-type {\n",
       "        vertical-align: middle;\n",
       "    }\n",
       "\n",
       "    .dataframe tbody tr th {\n",
       "        vertical-align: top;\n",
       "    }\n",
       "\n",
       "    .dataframe thead th {\n",
       "        text-align: right;\n",
       "    }\n",
       "</style>\n",
       "<table border=\"1\" class=\"dataframe\">\n",
       "  <thead>\n",
       "    <tr style=\"text-align: right;\">\n",
       "      <th></th>\n",
       "      <th>Metadata_JCP2022</th>\n",
       "      <th>mean_average_precision</th>\n",
       "      <th>nlog10pvalue</th>\n",
       "      <th>q_value</th>\n",
       "      <th>nlog10qvalue</th>\n",
       "      <th>above_p_threshold</th>\n",
       "      <th>above_q_threshold</th>\n",
       "    </tr>\n",
       "  </thead>\n",
       "  <tbody>\n",
       "    <tr>\n",
       "      <th>0</th>\n",
       "      <td>c0</td>\n",
       "      <td>0.053035</td>\n",
       "      <td>0.318423</td>\n",
       "      <td>0.589071</td>\n",
       "      <td>0.229833</td>\n",
       "      <td>False</td>\n",
       "      <td>False</td>\n",
       "    </tr>\n",
       "    <tr>\n",
       "      <th>1</th>\n",
       "      <td>c1</td>\n",
       "      <td>0.072934</td>\n",
       "      <td>0.627046</td>\n",
       "      <td>0.589071</td>\n",
       "      <td>0.229833</td>\n",
       "      <td>False</td>\n",
       "      <td>False</td>\n",
       "    </tr>\n",
       "    <tr>\n",
       "      <th>2</th>\n",
       "      <td>c10</td>\n",
       "      <td>0.052094</td>\n",
       "      <td>0.548858</td>\n",
       "      <td>0.589071</td>\n",
       "      <td>0.229833</td>\n",
       "      <td>False</td>\n",
       "      <td>False</td>\n",
       "    </tr>\n",
       "    <tr>\n",
       "      <th>3</th>\n",
       "      <td>c11</td>\n",
       "      <td>0.077090</td>\n",
       "      <td>0.736562</td>\n",
       "      <td>0.589071</td>\n",
       "      <td>0.229833</td>\n",
       "      <td>False</td>\n",
       "      <td>False</td>\n",
       "    </tr>\n",
       "    <tr>\n",
       "      <th>4</th>\n",
       "      <td>c12</td>\n",
       "      <td>0.062313</td>\n",
       "      <td>0.392067</td>\n",
       "      <td>0.589071</td>\n",
       "      <td>0.229833</td>\n",
       "      <td>False</td>\n",
       "      <td>False</td>\n",
       "    </tr>\n",
       "    <tr>\n",
       "      <th>5</th>\n",
       "      <td>c13</td>\n",
       "      <td>0.061869</td>\n",
       "      <td>0.468056</td>\n",
       "      <td>0.589071</td>\n",
       "      <td>0.229833</td>\n",
       "      <td>False</td>\n",
       "      <td>False</td>\n",
       "    </tr>\n",
       "    <tr>\n",
       "      <th>6</th>\n",
       "      <td>c14</td>\n",
       "      <td>0.077471</td>\n",
       "      <td>0.479712</td>\n",
       "      <td>0.589071</td>\n",
       "      <td>0.229833</td>\n",
       "      <td>False</td>\n",
       "      <td>False</td>\n",
       "    </tr>\n",
       "    <tr>\n",
       "      <th>7</th>\n",
       "      <td>c15</td>\n",
       "      <td>0.053557</td>\n",
       "      <td>0.429338</td>\n",
       "      <td>0.589071</td>\n",
       "      <td>0.229833</td>\n",
       "      <td>False</td>\n",
       "      <td>False</td>\n",
       "    </tr>\n",
       "    <tr>\n",
       "      <th>8</th>\n",
       "      <td>c16</td>\n",
       "      <td>0.056858</td>\n",
       "      <td>0.204951</td>\n",
       "      <td>0.623806</td>\n",
       "      <td>0.204951</td>\n",
       "      <td>False</td>\n",
       "      <td>False</td>\n",
       "    </tr>\n",
       "    <tr>\n",
       "      <th>9</th>\n",
       "      <td>c17</td>\n",
       "      <td>0.072333</td>\n",
       "      <td>0.244594</td>\n",
       "      <td>0.593109</td>\n",
       "      <td>0.226865</td>\n",
       "      <td>False</td>\n",
       "      <td>False</td>\n",
       "    </tr>\n",
       "    <tr>\n",
       "      <th>10</th>\n",
       "      <td>c18</td>\n",
       "      <td>0.069666</td>\n",
       "      <td>0.260727</td>\n",
       "      <td>0.593109</td>\n",
       "      <td>0.226865</td>\n",
       "      <td>False</td>\n",
       "      <td>False</td>\n",
       "    </tr>\n",
       "    <tr>\n",
       "      <th>11</th>\n",
       "      <td>c19</td>\n",
       "      <td>0.072523</td>\n",
       "      <td>0.330979</td>\n",
       "      <td>0.589071</td>\n",
       "      <td>0.229833</td>\n",
       "      <td>False</td>\n",
       "      <td>False</td>\n",
       "    </tr>\n",
       "    <tr>\n",
       "      <th>12</th>\n",
       "      <td>c2</td>\n",
       "      <td>0.056720</td>\n",
       "      <td>0.316498</td>\n",
       "      <td>0.589071</td>\n",
       "      <td>0.229833</td>\n",
       "      <td>False</td>\n",
       "      <td>False</td>\n",
       "    </tr>\n",
       "    <tr>\n",
       "      <th>13</th>\n",
       "      <td>c20</td>\n",
       "      <td>0.086180</td>\n",
       "      <td>0.399586</td>\n",
       "      <td>0.589071</td>\n",
       "      <td>0.229833</td>\n",
       "      <td>False</td>\n",
       "      <td>False</td>\n",
       "    </tr>\n",
       "    <tr>\n",
       "      <th>14</th>\n",
       "      <td>c21</td>\n",
       "      <td>0.086989</td>\n",
       "      <td>0.684387</td>\n",
       "      <td>0.589071</td>\n",
       "      <td>0.229833</td>\n",
       "      <td>False</td>\n",
       "      <td>False</td>\n",
       "    </tr>\n",
       "    <tr>\n",
       "      <th>15</th>\n",
       "      <td>c22</td>\n",
       "      <td>0.056412</td>\n",
       "      <td>0.254910</td>\n",
       "      <td>0.593109</td>\n",
       "      <td>0.226865</td>\n",
       "      <td>False</td>\n",
       "      <td>False</td>\n",
       "    </tr>\n",
       "    <tr>\n",
       "      <th>16</th>\n",
       "      <td>c23</td>\n",
       "      <td>0.045044</td>\n",
       "      <td>0.253286</td>\n",
       "      <td>0.593109</td>\n",
       "      <td>0.226865</td>\n",
       "      <td>False</td>\n",
       "      <td>False</td>\n",
       "    </tr>\n",
       "    <tr>\n",
       "      <th>17</th>\n",
       "      <td>c24</td>\n",
       "      <td>0.063922</td>\n",
       "      <td>0.216468</td>\n",
       "      <td>0.619877</td>\n",
       "      <td>0.207694</td>\n",
       "      <td>False</td>\n",
       "      <td>False</td>\n",
       "    </tr>\n",
       "    <tr>\n",
       "      <th>18</th>\n",
       "      <td>c25</td>\n",
       "      <td>0.086911</td>\n",
       "      <td>0.558372</td>\n",
       "      <td>0.589071</td>\n",
       "      <td>0.229833</td>\n",
       "      <td>False</td>\n",
       "      <td>False</td>\n",
       "    </tr>\n",
       "    <tr>\n",
       "      <th>19</th>\n",
       "      <td>c26</td>\n",
       "      <td>0.081030</td>\n",
       "      <td>0.446404</td>\n",
       "      <td>0.589071</td>\n",
       "      <td>0.229833</td>\n",
       "      <td>False</td>\n",
       "      <td>False</td>\n",
       "    </tr>\n",
       "    <tr>\n",
       "      <th>20</th>\n",
       "      <td>c27</td>\n",
       "      <td>0.071966</td>\n",
       "      <td>0.369706</td>\n",
       "      <td>0.589071</td>\n",
       "      <td>0.229833</td>\n",
       "      <td>False</td>\n",
       "      <td>False</td>\n",
       "    </tr>\n",
       "    <tr>\n",
       "      <th>21</th>\n",
       "      <td>c28</td>\n",
       "      <td>0.059131</td>\n",
       "      <td>0.468336</td>\n",
       "      <td>0.589071</td>\n",
       "      <td>0.229833</td>\n",
       "      <td>False</td>\n",
       "      <td>False</td>\n",
       "    </tr>\n",
       "    <tr>\n",
       "      <th>22</th>\n",
       "      <td>c29</td>\n",
       "      <td>0.061384</td>\n",
       "      <td>0.374652</td>\n",
       "      <td>0.589071</td>\n",
       "      <td>0.229833</td>\n",
       "      <td>False</td>\n",
       "      <td>False</td>\n",
       "    </tr>\n",
       "    <tr>\n",
       "      <th>23</th>\n",
       "      <td>c3</td>\n",
       "      <td>0.048085</td>\n",
       "      <td>0.343176</td>\n",
       "      <td>0.589071</td>\n",
       "      <td>0.229833</td>\n",
       "      <td>False</td>\n",
       "      <td>False</td>\n",
       "    </tr>\n",
       "    <tr>\n",
       "      <th>24</th>\n",
       "      <td>c30</td>\n",
       "      <td>0.051953</td>\n",
       "      <td>0.367505</td>\n",
       "      <td>0.589071</td>\n",
       "      <td>0.229833</td>\n",
       "      <td>False</td>\n",
       "      <td>False</td>\n",
       "    </tr>\n",
       "    <tr>\n",
       "      <th>25</th>\n",
       "      <td>c31</td>\n",
       "      <td>0.070180</td>\n",
       "      <td>0.368341</td>\n",
       "      <td>0.589071</td>\n",
       "      <td>0.229833</td>\n",
       "      <td>False</td>\n",
       "      <td>False</td>\n",
       "    </tr>\n",
       "    <tr>\n",
       "      <th>26</th>\n",
       "      <td>c32</td>\n",
       "      <td>0.064491</td>\n",
       "      <td>0.289214</td>\n",
       "      <td>0.593109</td>\n",
       "      <td>0.226865</td>\n",
       "      <td>False</td>\n",
       "      <td>False</td>\n",
       "    </tr>\n",
       "    <tr>\n",
       "      <th>27</th>\n",
       "      <td>c33</td>\n",
       "      <td>0.076397</td>\n",
       "      <td>0.450889</td>\n",
       "      <td>0.589071</td>\n",
       "      <td>0.229833</td>\n",
       "      <td>False</td>\n",
       "      <td>False</td>\n",
       "    </tr>\n",
       "    <tr>\n",
       "      <th>28</th>\n",
       "      <td>c34</td>\n",
       "      <td>0.061755</td>\n",
       "      <td>0.423483</td>\n",
       "      <td>0.589071</td>\n",
       "      <td>0.229833</td>\n",
       "      <td>False</td>\n",
       "      <td>False</td>\n",
       "    </tr>\n",
       "    <tr>\n",
       "      <th>29</th>\n",
       "      <td>c35</td>\n",
       "      <td>0.049297</td>\n",
       "      <td>0.344324</td>\n",
       "      <td>0.589071</td>\n",
       "      <td>0.229833</td>\n",
       "      <td>False</td>\n",
       "      <td>False</td>\n",
       "    </tr>\n",
       "    <tr>\n",
       "      <th>30</th>\n",
       "      <td>c36</td>\n",
       "      <td>0.073068</td>\n",
       "      <td>0.606747</td>\n",
       "      <td>0.589071</td>\n",
       "      <td>0.229833</td>\n",
       "      <td>False</td>\n",
       "      <td>False</td>\n",
       "    </tr>\n",
       "    <tr>\n",
       "      <th>31</th>\n",
       "      <td>c37</td>\n",
       "      <td>0.061946</td>\n",
       "      <td>0.439102</td>\n",
       "      <td>0.589071</td>\n",
       "      <td>0.229833</td>\n",
       "      <td>False</td>\n",
       "      <td>False</td>\n",
       "    </tr>\n",
       "    <tr>\n",
       "      <th>32</th>\n",
       "      <td>c38</td>\n",
       "      <td>0.077382</td>\n",
       "      <td>0.589283</td>\n",
       "      <td>0.589071</td>\n",
       "      <td>0.229833</td>\n",
       "      <td>False</td>\n",
       "      <td>False</td>\n",
       "    </tr>\n",
       "    <tr>\n",
       "      <th>33</th>\n",
       "      <td>c39</td>\n",
       "      <td>0.077781</td>\n",
       "      <td>0.456764</td>\n",
       "      <td>0.589071</td>\n",
       "      <td>0.229833</td>\n",
       "      <td>False</td>\n",
       "      <td>False</td>\n",
       "    </tr>\n",
       "    <tr>\n",
       "      <th>34</th>\n",
       "      <td>c4</td>\n",
       "      <td>0.077264</td>\n",
       "      <td>0.485292</td>\n",
       "      <td>0.589071</td>\n",
       "      <td>0.229833</td>\n",
       "      <td>False</td>\n",
       "      <td>False</td>\n",
       "    </tr>\n",
       "    <tr>\n",
       "      <th>35</th>\n",
       "      <td>c40</td>\n",
       "      <td>0.064270</td>\n",
       "      <td>0.316019</td>\n",
       "      <td>0.589071</td>\n",
       "      <td>0.229833</td>\n",
       "      <td>False</td>\n",
       "      <td>False</td>\n",
       "    </tr>\n",
       "    <tr>\n",
       "      <th>36</th>\n",
       "      <td>c41</td>\n",
       "      <td>0.065648</td>\n",
       "      <td>0.569830</td>\n",
       "      <td>0.589071</td>\n",
       "      <td>0.229833</td>\n",
       "      <td>False</td>\n",
       "      <td>False</td>\n",
       "    </tr>\n",
       "    <tr>\n",
       "      <th>37</th>\n",
       "      <td>c42</td>\n",
       "      <td>0.060966</td>\n",
       "      <td>0.301688</td>\n",
       "      <td>0.593109</td>\n",
       "      <td>0.226865</td>\n",
       "      <td>False</td>\n",
       "      <td>False</td>\n",
       "    </tr>\n",
       "    <tr>\n",
       "      <th>38</th>\n",
       "      <td>c43</td>\n",
       "      <td>0.080169</td>\n",
       "      <td>0.472878</td>\n",
       "      <td>0.589071</td>\n",
       "      <td>0.229833</td>\n",
       "      <td>False</td>\n",
       "      <td>False</td>\n",
       "    </tr>\n",
       "    <tr>\n",
       "      <th>39</th>\n",
       "      <td>c44</td>\n",
       "      <td>0.077499</td>\n",
       "      <td>0.380928</td>\n",
       "      <td>0.589071</td>\n",
       "      <td>0.229833</td>\n",
       "      <td>False</td>\n",
       "      <td>False</td>\n",
       "    </tr>\n",
       "    <tr>\n",
       "      <th>40</th>\n",
       "      <td>c45</td>\n",
       "      <td>0.077223</td>\n",
       "      <td>0.349378</td>\n",
       "      <td>0.589071</td>\n",
       "      <td>0.229833</td>\n",
       "      <td>False</td>\n",
       "      <td>False</td>\n",
       "    </tr>\n",
       "    <tr>\n",
       "      <th>41</th>\n",
       "      <td>c46</td>\n",
       "      <td>0.059873</td>\n",
       "      <td>0.272346</td>\n",
       "      <td>0.593109</td>\n",
       "      <td>0.226865</td>\n",
       "      <td>False</td>\n",
       "      <td>False</td>\n",
       "    </tr>\n",
       "    <tr>\n",
       "      <th>42</th>\n",
       "      <td>c47</td>\n",
       "      <td>0.085993</td>\n",
       "      <td>0.419000</td>\n",
       "      <td>0.589071</td>\n",
       "      <td>0.229833</td>\n",
       "      <td>False</td>\n",
       "      <td>False</td>\n",
       "    </tr>\n",
       "    <tr>\n",
       "      <th>43</th>\n",
       "      <td>c48</td>\n",
       "      <td>0.068331</td>\n",
       "      <td>0.448799</td>\n",
       "      <td>0.589071</td>\n",
       "      <td>0.229833</td>\n",
       "      <td>False</td>\n",
       "      <td>False</td>\n",
       "    </tr>\n",
       "    <tr>\n",
       "      <th>44</th>\n",
       "      <td>c49</td>\n",
       "      <td>0.080543</td>\n",
       "      <td>0.445119</td>\n",
       "      <td>0.589071</td>\n",
       "      <td>0.229833</td>\n",
       "      <td>False</td>\n",
       "      <td>False</td>\n",
       "    </tr>\n",
       "    <tr>\n",
       "      <th>45</th>\n",
       "      <td>c5</td>\n",
       "      <td>0.067809</td>\n",
       "      <td>0.446078</td>\n",
       "      <td>0.589071</td>\n",
       "      <td>0.229833</td>\n",
       "      <td>False</td>\n",
       "      <td>False</td>\n",
       "    </tr>\n",
       "    <tr>\n",
       "      <th>46</th>\n",
       "      <td>c6</td>\n",
       "      <td>0.077439</td>\n",
       "      <td>0.478873</td>\n",
       "      <td>0.589071</td>\n",
       "      <td>0.229833</td>\n",
       "      <td>False</td>\n",
       "      <td>False</td>\n",
       "    </tr>\n",
       "    <tr>\n",
       "      <th>47</th>\n",
       "      <td>c7</td>\n",
       "      <td>0.094101</td>\n",
       "      <td>0.573424</td>\n",
       "      <td>0.589071</td>\n",
       "      <td>0.229833</td>\n",
       "      <td>False</td>\n",
       "      <td>False</td>\n",
       "    </tr>\n",
       "    <tr>\n",
       "      <th>48</th>\n",
       "      <td>c8</td>\n",
       "      <td>0.063597</td>\n",
       "      <td>0.527291</td>\n",
       "      <td>0.589071</td>\n",
       "      <td>0.229833</td>\n",
       "      <td>False</td>\n",
       "      <td>False</td>\n",
       "    </tr>\n",
       "    <tr>\n",
       "      <th>49</th>\n",
       "      <td>c9</td>\n",
       "      <td>0.074574</td>\n",
       "      <td>0.516975</td>\n",
       "      <td>0.589071</td>\n",
       "      <td>0.229833</td>\n",
       "      <td>False</td>\n",
       "      <td>False</td>\n",
       "    </tr>\n",
       "  </tbody>\n",
       "</table>\n",
       "</div>"
      ],
      "text/plain": [
       "   Metadata_JCP2022  mean_average_precision  nlog10pvalue   q_value  \\\n",
       "0                c0                0.053035      0.318423  0.589071   \n",
       "1                c1                0.072934      0.627046  0.589071   \n",
       "2               c10                0.052094      0.548858  0.589071   \n",
       "3               c11                0.077090      0.736562  0.589071   \n",
       "4               c12                0.062313      0.392067  0.589071   \n",
       "5               c13                0.061869      0.468056  0.589071   \n",
       "6               c14                0.077471      0.479712  0.589071   \n",
       "7               c15                0.053557      0.429338  0.589071   \n",
       "8               c16                0.056858      0.204951  0.623806   \n",
       "9               c17                0.072333      0.244594  0.593109   \n",
       "10              c18                0.069666      0.260727  0.593109   \n",
       "11              c19                0.072523      0.330979  0.589071   \n",
       "12               c2                0.056720      0.316498  0.589071   \n",
       "13              c20                0.086180      0.399586  0.589071   \n",
       "14              c21                0.086989      0.684387  0.589071   \n",
       "15              c22                0.056412      0.254910  0.593109   \n",
       "16              c23                0.045044      0.253286  0.593109   \n",
       "17              c24                0.063922      0.216468  0.619877   \n",
       "18              c25                0.086911      0.558372  0.589071   \n",
       "19              c26                0.081030      0.446404  0.589071   \n",
       "20              c27                0.071966      0.369706  0.589071   \n",
       "21              c28                0.059131      0.468336  0.589071   \n",
       "22              c29                0.061384      0.374652  0.589071   \n",
       "23               c3                0.048085      0.343176  0.589071   \n",
       "24              c30                0.051953      0.367505  0.589071   \n",
       "25              c31                0.070180      0.368341  0.589071   \n",
       "26              c32                0.064491      0.289214  0.593109   \n",
       "27              c33                0.076397      0.450889  0.589071   \n",
       "28              c34                0.061755      0.423483  0.589071   \n",
       "29              c35                0.049297      0.344324  0.589071   \n",
       "30              c36                0.073068      0.606747  0.589071   \n",
       "31              c37                0.061946      0.439102  0.589071   \n",
       "32              c38                0.077382      0.589283  0.589071   \n",
       "33              c39                0.077781      0.456764  0.589071   \n",
       "34               c4                0.077264      0.485292  0.589071   \n",
       "35              c40                0.064270      0.316019  0.589071   \n",
       "36              c41                0.065648      0.569830  0.589071   \n",
       "37              c42                0.060966      0.301688  0.593109   \n",
       "38              c43                0.080169      0.472878  0.589071   \n",
       "39              c44                0.077499      0.380928  0.589071   \n",
       "40              c45                0.077223      0.349378  0.589071   \n",
       "41              c46                0.059873      0.272346  0.593109   \n",
       "42              c47                0.085993      0.419000  0.589071   \n",
       "43              c48                0.068331      0.448799  0.589071   \n",
       "44              c49                0.080543      0.445119  0.589071   \n",
       "45               c5                0.067809      0.446078  0.589071   \n",
       "46               c6                0.077439      0.478873  0.589071   \n",
       "47               c7                0.094101      0.573424  0.589071   \n",
       "48               c8                0.063597      0.527291  0.589071   \n",
       "49               c9                0.074574      0.516975  0.589071   \n",
       "\n",
       "    nlog10qvalue  above_p_threshold  above_q_threshold  \n",
       "0       0.229833              False              False  \n",
       "1       0.229833              False              False  \n",
       "2       0.229833              False              False  \n",
       "3       0.229833              False              False  \n",
       "4       0.229833              False              False  \n",
       "5       0.229833              False              False  \n",
       "6       0.229833              False              False  \n",
       "7       0.229833              False              False  \n",
       "8       0.204951              False              False  \n",
       "9       0.226865              False              False  \n",
       "10      0.226865              False              False  \n",
       "11      0.229833              False              False  \n",
       "12      0.229833              False              False  \n",
       "13      0.229833              False              False  \n",
       "14      0.229833              False              False  \n",
       "15      0.226865              False              False  \n",
       "16      0.226865              False              False  \n",
       "17      0.207694              False              False  \n",
       "18      0.229833              False              False  \n",
       "19      0.229833              False              False  \n",
       "20      0.229833              False              False  \n",
       "21      0.229833              False              False  \n",
       "22      0.229833              False              False  \n",
       "23      0.229833              False              False  \n",
       "24      0.229833              False              False  \n",
       "25      0.229833              False              False  \n",
       "26      0.226865              False              False  \n",
       "27      0.229833              False              False  \n",
       "28      0.229833              False              False  \n",
       "29      0.229833              False              False  \n",
       "30      0.229833              False              False  \n",
       "31      0.229833              False              False  \n",
       "32      0.229833              False              False  \n",
       "33      0.229833              False              False  \n",
       "34      0.229833              False              False  \n",
       "35      0.229833              False              False  \n",
       "36      0.229833              False              False  \n",
       "37      0.226865              False              False  \n",
       "38      0.229833              False              False  \n",
       "39      0.229833              False              False  \n",
       "40      0.229833              False              False  \n",
       "41      0.226865              False              False  \n",
       "42      0.229833              False              False  \n",
       "43      0.229833              False              False  \n",
       "44      0.229833              False              False  \n",
       "45      0.229833              False              False  \n",
       "46      0.229833              False              False  \n",
       "47      0.229833              False              False  \n",
       "48      0.229833              False              False  \n",
       "49      0.229833              False              False  "
      ]
     },
     "execution_count": 12,
     "metadata": {},
     "output_type": "execute_result"
    }
   ],
   "source": [
    "from copairs.map import aggregate\n",
    "agg_result = aggregate(result, sameby=pos_sameby, threshold=0.05)\n",
    "agg_result"
   ]
  },
  {
   "cell_type": "markdown",
   "id": "31a1e9d2",
   "metadata": {},
   "source": [
    "Features are sampled from uniform distribution, thus it is expected that none of the perturbations surpass the significance `threshold=0.05`:"
   ]
  },
  {
   "cell_type": "code",
   "execution_count": 10,
   "id": "c8da7229",
   "metadata": {},
   "outputs": [
    {
     "data": {
      "text/plain": [
       "above_p_threshold  above_q_threshold\n",
       "False              False                50\n",
       "Name: count, dtype: int64"
      ]
     },
     "execution_count": 10,
     "metadata": {},
     "output_type": "execute_result"
    }
   ],
   "source": [
    "agg_result[['above_p_threshold', 'above_q_threshold']].value_counts()"
   ]
  },
  {
   "cell_type": "markdown",
   "id": "c3b79b4c",
   "metadata": {},
   "source": [
    "## Plotting mAP vs p-values\n",
    "The following plot requires `plotly` package for visualization. You can install it with:\n",
    "```bash\n",
    "$ pip install plotly\n",
    "```"
   ]
  },
  {
   "cell_type": "code",
   "execution_count": 11,
   "id": "509bb694-9897-499c-893c-6f30284d0f9f",
   "metadata": {
    "tags": []
   },
   "outputs": [],
   "source": [
    "import plotly.express as px\n",
    "\n",
    "p_curve = px.scatter(agg_result,\n",
    "           x='average_precision',\n",
    "           y='nlog10pvalue',\n",
    "           hover_name=pert_col\n",
    "          ).add_hline(y=-np.log10(0.05))\n",
    "q_curve = px.scatter(agg_result,\n",
    "           x='average_precision',\n",
    "           y='nlog10qvalue',\n",
    "           hover_name=pert_col\n",
    "          ).add_hline(y=-np.log10(0.05))"
   ]
  },
  {
   "cell_type": "code",
   "execution_count": 12,
   "id": "8560c0ce-7393-4e01-99c8-ac67cc11674b",
   "metadata": {
    "tags": []
   },
   "outputs": [
    {
     "data": {
      "application/vnd.plotly.v1+json": {
       "config": {
        "plotlyServerURL": "https://plot.ly"
       },
       "data": [
        {
         "hovertemplate": "<b>%{hovertext}</b><br><br>average_precision=%{x}<br>nlog10pvalue=%{y}<extra></extra>",
         "hovertext": [
          "c0",
          "c1",
          "c10",
          "c11",
          "c12",
          "c13",
          "c14",
          "c15",
          "c16",
          "c17",
          "c18",
          "c19",
          "c2",
          "c20",
          "c21",
          "c22",
          "c23",
          "c24",
          "c25",
          "c26",
          "c27",
          "c28",
          "c29",
          "c3",
          "c30",
          "c31",
          "c32",
          "c33",
          "c34",
          "c35",
          "c36",
          "c37",
          "c38",
          "c39",
          "c4",
          "c40",
          "c41",
          "c42",
          "c43",
          "c44",
          "c45",
          "c46",
          "c47",
          "c48",
          "c49",
          "c5",
          "c6",
          "c7",
          "c8",
          "c9"
         ],
         "legendgroup": "",
         "marker": {
          "color": "#636efa",
          "symbol": "circle"
         },
         "mode": "markers",
         "name": "",
         "orientation": "v",
         "showlegend": false,
         "type": "scatter",
         "x": [
          0.053035203026084964,
          0.07293440299138756,
          0.052093862558545895,
          0.07709039353291924,
          0.06231297674870978,
          0.06186910079405178,
          0.07747091602007465,
          0.053557198498632934,
          0.05685812206799029,
          0.07233311486664828,
          0.06966631877340294,
          0.07252349706842882,
          0.0567196483865029,
          0.08617965470957566,
          0.08698935342585655,
          0.056411712330706756,
          0.04504428827511314,
          0.06392205267618266,
          0.08691099546474784,
          0.0810302386723454,
          0.07196631479977303,
          0.059131214161505685,
          0.061384235422335454,
          0.04808517781326283,
          0.05195305102111503,
          0.07018036981176623,
          0.06449142616485519,
          0.07639748190856657,
          0.06175478430507408,
          0.049297462627033446,
          0.07306763530425915,
          0.06194563313667496,
          0.07738236796625807,
          0.0777806278332188,
          0.07726355763682537,
          0.06426960623074618,
          0.06564761558178446,
          0.060966433712960746,
          0.08016495820413774,
          0.07749878528842821,
          0.07722333123382194,
          0.059872955333508567,
          0.08599268665273083,
          0.06833138004041149,
          0.08054260358833856,
          0.0678088468089209,
          0.07743858675366555,
          0.09410136757785319,
          0.06359683477398025,
          0.07457390153529925
         ],
         "xaxis": "x",
         "y": [
          0.32072338184099297,
          0.6276119643514939,
          0.5504671971435516,
          0.759326354444635,
          0.3935372944539878,
          0.467056763754991,
          0.4791277243143086,
          0.42289202023169264,
          0.20788037529975767,
          0.24226786249851015,
          0.2608541524531907,
          0.32836077945722025,
          0.3153358322262161,
          0.4027776360816832,
          0.6844217805288567,
          0.25690866509935056,
          0.25907333769265173,
          0.21714183165872236,
          0.5564868081939011,
          0.45008572660436724,
          0.36983003370665646,
          0.4703212733246464,
          0.373707854946497,
          0.33813825004166426,
          0.36878063708944214,
          0.37635466451028765,
          0.2863880912878667,
          0.44953707615026023,
          0.4233093275201198,
          0.34434378485383577,
          0.6026672484613124,
          0.4383661586956315,
          0.5895165803988727,
          0.46017272412747745,
          0.4843284067559699,
          0.3153280905028013,
          0.5679101011512768,
          0.3029818596595852,
          0.4784231470121916,
          0.3854353433893779,
          0.3550017976870746,
          0.2745112251832411,
          0.41903821533361285,
          0.4504028737035411,
          0.443155209855737,
          0.4410530539400677,
          0.48016609486348466,
          0.5664450232898139,
          0.5228234552154878,
          0.5129066050117719
         ],
         "yaxis": "y"
        },
        {
         "hovertemplate": "<b>%{hovertext}</b><br><br>average_precision=%{x}<br>nlog10qvalue=%{y}<extra></extra>",
         "hovertext": [
          "c0",
          "c1",
          "c10",
          "c11",
          "c12",
          "c13",
          "c14",
          "c15",
          "c16",
          "c17",
          "c18",
          "c19",
          "c2",
          "c20",
          "c21",
          "c22",
          "c23",
          "c24",
          "c25",
          "c26",
          "c27",
          "c28",
          "c29",
          "c3",
          "c30",
          "c31",
          "c32",
          "c33",
          "c34",
          "c35",
          "c36",
          "c37",
          "c38",
          "c39",
          "c4",
          "c40",
          "c41",
          "c42",
          "c43",
          "c44",
          "c45",
          "c46",
          "c47",
          "c48",
          "c49",
          "c5",
          "c6",
          "c7",
          "c8",
          "c9"
         ],
         "legendgroup": "",
         "marker": {
          "color": "#636efa",
          "symbol": "circle"
         },
         "mode": "markers",
         "name": "",
         "orientation": "v",
         "showlegend": false,
         "type": "scatter",
         "x": [
          0.053035203026084964,
          0.07293440299138756,
          0.052093862558545895,
          0.07709039353291924,
          0.06231297674870978,
          0.06186910079405178,
          0.07747091602007465,
          0.053557198498632934,
          0.05685812206799029,
          0.07233311486664828,
          0.06966631877340294,
          0.07252349706842882,
          0.0567196483865029,
          0.08617965470957566,
          0.08698935342585655,
          0.056411712330706756,
          0.04504428827511314,
          0.06392205267618266,
          0.08691099546474784,
          0.0810302386723454,
          0.07196631479977303,
          0.059131214161505685,
          0.061384235422335454,
          0.04808517781326283,
          0.05195305102111503,
          0.07018036981176623,
          0.06449142616485519,
          0.07639748190856657,
          0.06175478430507408,
          0.049297462627033446,
          0.07306763530425915,
          0.06194563313667496,
          0.07738236796625807,
          0.0777806278332188,
          0.07726355763682537,
          0.06426960623074618,
          0.06564761558178446,
          0.060966433712960746,
          0.08016495820413774,
          0.07749878528842821,
          0.07722333123382194,
          0.059872955333508567,
          0.08599268665273083,
          0.06833138004041149,
          0.08054260358833856,
          0.0678088468089209,
          0.07743858675366555,
          0.09410136757785319,
          0.06359683477398025,
          0.07457390153529925
         ],
         "xaxis": "x2",
         "y": [
          0.23003651869904923,
          0.23003651869904923,
          0.23003651869904923,
          0.23003651869904923,
          0.23003651869904923,
          0.23003651869904923,
          0.23003651869904923,
          0.23003651869904923,
          0.2078803752997577,
          0.22453909553807858,
          0.23003651869904923,
          0.23003651869904923,
          0.23003651869904923,
          0.23003651869904923,
          0.23003651869904923,
          0.23003651869904923,
          0.23003651869904923,
          0.20836790735121724,
          0.23003651869904923,
          0.23003651869904923,
          0.23003651869904923,
          0.23003651869904923,
          0.23003651869904923,
          0.23003651869904923,
          0.23003651869904923,
          0.23003651869904923,
          0.23003651869904923,
          0.23003651869904923,
          0.23003651869904923,
          0.23003651869904923,
          0.23003651869904923,
          0.23003651869904923,
          0.23003651869904923,
          0.23003651869904923,
          0.23003651869904923,
          0.23003651869904923,
          0.23003651869904923,
          0.23003651869904923,
          0.23003651869904923,
          0.23003651869904923,
          0.23003651869904923,
          0.23003651869904923,
          0.23003651869904923,
          0.23003651869904923,
          0.23003651869904923,
          0.23003651869904923,
          0.23003651869904923,
          0.23003651869904923,
          0.23003651869904923,
          0.23003651869904923
         ],
         "yaxis": "y2"
        }
       ],
       "layout": {
        "height": 500,
        "shapes": [
         {
          "type": "line",
          "x0": 0,
          "x1": 1,
          "xref": "x domain",
          "y0": 1.3010299956639813,
          "y1": 1.3010299956639813,
          "yref": "y"
         },
         {
          "type": "line",
          "x0": 0,
          "x1": 1,
          "xref": "x2 domain",
          "y0": 1.3010299956639813,
          "y1": 1.3010299956639813,
          "yref": "y2"
         }
        ],
        "template": {
         "data": {
          "bar": [
           {
            "error_x": {
             "color": "#2a3f5f"
            },
            "error_y": {
             "color": "#2a3f5f"
            },
            "marker": {
             "line": {
              "color": "#E5ECF6",
              "width": 0.5
             },
             "pattern": {
              "fillmode": "overlay",
              "size": 10,
              "solidity": 0.2
             }
            },
            "type": "bar"
           }
          ],
          "barpolar": [
           {
            "marker": {
             "line": {
              "color": "#E5ECF6",
              "width": 0.5
             },
             "pattern": {
              "fillmode": "overlay",
              "size": 10,
              "solidity": 0.2
             }
            },
            "type": "barpolar"
           }
          ],
          "carpet": [
           {
            "aaxis": {
             "endlinecolor": "#2a3f5f",
             "gridcolor": "white",
             "linecolor": "white",
             "minorgridcolor": "white",
             "startlinecolor": "#2a3f5f"
            },
            "baxis": {
             "endlinecolor": "#2a3f5f",
             "gridcolor": "white",
             "linecolor": "white",
             "minorgridcolor": "white",
             "startlinecolor": "#2a3f5f"
            },
            "type": "carpet"
           }
          ],
          "choropleth": [
           {
            "colorbar": {
             "outlinewidth": 0,
             "ticks": ""
            },
            "type": "choropleth"
           }
          ],
          "contour": [
           {
            "colorbar": {
             "outlinewidth": 0,
             "ticks": ""
            },
            "colorscale": [
             [
              0,
              "#0d0887"
             ],
             [
              0.1111111111111111,
              "#46039f"
             ],
             [
              0.2222222222222222,
              "#7201a8"
             ],
             [
              0.3333333333333333,
              "#9c179e"
             ],
             [
              0.4444444444444444,
              "#bd3786"
             ],
             [
              0.5555555555555556,
              "#d8576b"
             ],
             [
              0.6666666666666666,
              "#ed7953"
             ],
             [
              0.7777777777777778,
              "#fb9f3a"
             ],
             [
              0.8888888888888888,
              "#fdca26"
             ],
             [
              1,
              "#f0f921"
             ]
            ],
            "type": "contour"
           }
          ],
          "contourcarpet": [
           {
            "colorbar": {
             "outlinewidth": 0,
             "ticks": ""
            },
            "type": "contourcarpet"
           }
          ],
          "heatmap": [
           {
            "colorbar": {
             "outlinewidth": 0,
             "ticks": ""
            },
            "colorscale": [
             [
              0,
              "#0d0887"
             ],
             [
              0.1111111111111111,
              "#46039f"
             ],
             [
              0.2222222222222222,
              "#7201a8"
             ],
             [
              0.3333333333333333,
              "#9c179e"
             ],
             [
              0.4444444444444444,
              "#bd3786"
             ],
             [
              0.5555555555555556,
              "#d8576b"
             ],
             [
              0.6666666666666666,
              "#ed7953"
             ],
             [
              0.7777777777777778,
              "#fb9f3a"
             ],
             [
              0.8888888888888888,
              "#fdca26"
             ],
             [
              1,
              "#f0f921"
             ]
            ],
            "type": "heatmap"
           }
          ],
          "heatmapgl": [
           {
            "colorbar": {
             "outlinewidth": 0,
             "ticks": ""
            },
            "colorscale": [
             [
              0,
              "#0d0887"
             ],
             [
              0.1111111111111111,
              "#46039f"
             ],
             [
              0.2222222222222222,
              "#7201a8"
             ],
             [
              0.3333333333333333,
              "#9c179e"
             ],
             [
              0.4444444444444444,
              "#bd3786"
             ],
             [
              0.5555555555555556,
              "#d8576b"
             ],
             [
              0.6666666666666666,
              "#ed7953"
             ],
             [
              0.7777777777777778,
              "#fb9f3a"
             ],
             [
              0.8888888888888888,
              "#fdca26"
             ],
             [
              1,
              "#f0f921"
             ]
            ],
            "type": "heatmapgl"
           }
          ],
          "histogram": [
           {
            "marker": {
             "pattern": {
              "fillmode": "overlay",
              "size": 10,
              "solidity": 0.2
             }
            },
            "type": "histogram"
           }
          ],
          "histogram2d": [
           {
            "colorbar": {
             "outlinewidth": 0,
             "ticks": ""
            },
            "colorscale": [
             [
              0,
              "#0d0887"
             ],
             [
              0.1111111111111111,
              "#46039f"
             ],
             [
              0.2222222222222222,
              "#7201a8"
             ],
             [
              0.3333333333333333,
              "#9c179e"
             ],
             [
              0.4444444444444444,
              "#bd3786"
             ],
             [
              0.5555555555555556,
              "#d8576b"
             ],
             [
              0.6666666666666666,
              "#ed7953"
             ],
             [
              0.7777777777777778,
              "#fb9f3a"
             ],
             [
              0.8888888888888888,
              "#fdca26"
             ],
             [
              1,
              "#f0f921"
             ]
            ],
            "type": "histogram2d"
           }
          ],
          "histogram2dcontour": [
           {
            "colorbar": {
             "outlinewidth": 0,
             "ticks": ""
            },
            "colorscale": [
             [
              0,
              "#0d0887"
             ],
             [
              0.1111111111111111,
              "#46039f"
             ],
             [
              0.2222222222222222,
              "#7201a8"
             ],
             [
              0.3333333333333333,
              "#9c179e"
             ],
             [
              0.4444444444444444,
              "#bd3786"
             ],
             [
              0.5555555555555556,
              "#d8576b"
             ],
             [
              0.6666666666666666,
              "#ed7953"
             ],
             [
              0.7777777777777778,
              "#fb9f3a"
             ],
             [
              0.8888888888888888,
              "#fdca26"
             ],
             [
              1,
              "#f0f921"
             ]
            ],
            "type": "histogram2dcontour"
           }
          ],
          "mesh3d": [
           {
            "colorbar": {
             "outlinewidth": 0,
             "ticks": ""
            },
            "type": "mesh3d"
           }
          ],
          "parcoords": [
           {
            "line": {
             "colorbar": {
              "outlinewidth": 0,
              "ticks": ""
             }
            },
            "type": "parcoords"
           }
          ],
          "pie": [
           {
            "automargin": true,
            "type": "pie"
           }
          ],
          "scatter": [
           {
            "fillpattern": {
             "fillmode": "overlay",
             "size": 10,
             "solidity": 0.2
            },
            "type": "scatter"
           }
          ],
          "scatter3d": [
           {
            "line": {
             "colorbar": {
              "outlinewidth": 0,
              "ticks": ""
             }
            },
            "marker": {
             "colorbar": {
              "outlinewidth": 0,
              "ticks": ""
             }
            },
            "type": "scatter3d"
           }
          ],
          "scattercarpet": [
           {
            "marker": {
             "colorbar": {
              "outlinewidth": 0,
              "ticks": ""
             }
            },
            "type": "scattercarpet"
           }
          ],
          "scattergeo": [
           {
            "marker": {
             "colorbar": {
              "outlinewidth": 0,
              "ticks": ""
             }
            },
            "type": "scattergeo"
           }
          ],
          "scattergl": [
           {
            "marker": {
             "colorbar": {
              "outlinewidth": 0,
              "ticks": ""
             }
            },
            "type": "scattergl"
           }
          ],
          "scattermapbox": [
           {
            "marker": {
             "colorbar": {
              "outlinewidth": 0,
              "ticks": ""
             }
            },
            "type": "scattermapbox"
           }
          ],
          "scatterpolar": [
           {
            "marker": {
             "colorbar": {
              "outlinewidth": 0,
              "ticks": ""
             }
            },
            "type": "scatterpolar"
           }
          ],
          "scatterpolargl": [
           {
            "marker": {
             "colorbar": {
              "outlinewidth": 0,
              "ticks": ""
             }
            },
            "type": "scatterpolargl"
           }
          ],
          "scatterternary": [
           {
            "marker": {
             "colorbar": {
              "outlinewidth": 0,
              "ticks": ""
             }
            },
            "type": "scatterternary"
           }
          ],
          "surface": [
           {
            "colorbar": {
             "outlinewidth": 0,
             "ticks": ""
            },
            "colorscale": [
             [
              0,
              "#0d0887"
             ],
             [
              0.1111111111111111,
              "#46039f"
             ],
             [
              0.2222222222222222,
              "#7201a8"
             ],
             [
              0.3333333333333333,
              "#9c179e"
             ],
             [
              0.4444444444444444,
              "#bd3786"
             ],
             [
              0.5555555555555556,
              "#d8576b"
             ],
             [
              0.6666666666666666,
              "#ed7953"
             ],
             [
              0.7777777777777778,
              "#fb9f3a"
             ],
             [
              0.8888888888888888,
              "#fdca26"
             ],
             [
              1,
              "#f0f921"
             ]
            ],
            "type": "surface"
           }
          ],
          "table": [
           {
            "cells": {
             "fill": {
              "color": "#EBF0F8"
             },
             "line": {
              "color": "white"
             }
            },
            "header": {
             "fill": {
              "color": "#C8D4E3"
             },
             "line": {
              "color": "white"
             }
            },
            "type": "table"
           }
          ]
         },
         "layout": {
          "annotationdefaults": {
           "arrowcolor": "#2a3f5f",
           "arrowhead": 0,
           "arrowwidth": 1
          },
          "autotypenumbers": "strict",
          "coloraxis": {
           "colorbar": {
            "outlinewidth": 0,
            "ticks": ""
           }
          },
          "colorscale": {
           "diverging": [
            [
             0,
             "#8e0152"
            ],
            [
             0.1,
             "#c51b7d"
            ],
            [
             0.2,
             "#de77ae"
            ],
            [
             0.3,
             "#f1b6da"
            ],
            [
             0.4,
             "#fde0ef"
            ],
            [
             0.5,
             "#f7f7f7"
            ],
            [
             0.6,
             "#e6f5d0"
            ],
            [
             0.7,
             "#b8e186"
            ],
            [
             0.8,
             "#7fbc41"
            ],
            [
             0.9,
             "#4d9221"
            ],
            [
             1,
             "#276419"
            ]
           ],
           "sequential": [
            [
             0,
             "#0d0887"
            ],
            [
             0.1111111111111111,
             "#46039f"
            ],
            [
             0.2222222222222222,
             "#7201a8"
            ],
            [
             0.3333333333333333,
             "#9c179e"
            ],
            [
             0.4444444444444444,
             "#bd3786"
            ],
            [
             0.5555555555555556,
             "#d8576b"
            ],
            [
             0.6666666666666666,
             "#ed7953"
            ],
            [
             0.7777777777777778,
             "#fb9f3a"
            ],
            [
             0.8888888888888888,
             "#fdca26"
            ],
            [
             1,
             "#f0f921"
            ]
           ],
           "sequentialminus": [
            [
             0,
             "#0d0887"
            ],
            [
             0.1111111111111111,
             "#46039f"
            ],
            [
             0.2222222222222222,
             "#7201a8"
            ],
            [
             0.3333333333333333,
             "#9c179e"
            ],
            [
             0.4444444444444444,
             "#bd3786"
            ],
            [
             0.5555555555555556,
             "#d8576b"
            ],
            [
             0.6666666666666666,
             "#ed7953"
            ],
            [
             0.7777777777777778,
             "#fb9f3a"
            ],
            [
             0.8888888888888888,
             "#fdca26"
            ],
            [
             1,
             "#f0f921"
            ]
           ]
          },
          "colorway": [
           "#636efa",
           "#EF553B",
           "#00cc96",
           "#ab63fa",
           "#FFA15A",
           "#19d3f3",
           "#FF6692",
           "#B6E880",
           "#FF97FF",
           "#FECB52"
          ],
          "font": {
           "color": "#2a3f5f"
          },
          "geo": {
           "bgcolor": "white",
           "lakecolor": "white",
           "landcolor": "#E5ECF6",
           "showlakes": true,
           "showland": true,
           "subunitcolor": "white"
          },
          "hoverlabel": {
           "align": "left"
          },
          "hovermode": "closest",
          "mapbox": {
           "style": "light"
          },
          "paper_bgcolor": "white",
          "plot_bgcolor": "#E5ECF6",
          "polar": {
           "angularaxis": {
            "gridcolor": "white",
            "linecolor": "white",
            "ticks": ""
           },
           "bgcolor": "#E5ECF6",
           "radialaxis": {
            "gridcolor": "white",
            "linecolor": "white",
            "ticks": ""
           }
          },
          "scene": {
           "xaxis": {
            "backgroundcolor": "#E5ECF6",
            "gridcolor": "white",
            "gridwidth": 2,
            "linecolor": "white",
            "showbackground": true,
            "ticks": "",
            "zerolinecolor": "white"
           },
           "yaxis": {
            "backgroundcolor": "#E5ECF6",
            "gridcolor": "white",
            "gridwidth": 2,
            "linecolor": "white",
            "showbackground": true,
            "ticks": "",
            "zerolinecolor": "white"
           },
           "zaxis": {
            "backgroundcolor": "#E5ECF6",
            "gridcolor": "white",
            "gridwidth": 2,
            "linecolor": "white",
            "showbackground": true,
            "ticks": "",
            "zerolinecolor": "white"
           }
          },
          "shapedefaults": {
           "line": {
            "color": "#2a3f5f"
           }
          },
          "ternary": {
           "aaxis": {
            "gridcolor": "white",
            "linecolor": "white",
            "ticks": ""
           },
           "baxis": {
            "gridcolor": "white",
            "linecolor": "white",
            "ticks": ""
           },
           "bgcolor": "#E5ECF6",
           "caxis": {
            "gridcolor": "white",
            "linecolor": "white",
            "ticks": ""
           }
          },
          "title": {
           "x": 0.05
          },
          "xaxis": {
           "automargin": true,
           "gridcolor": "white",
           "linecolor": "white",
           "ticks": "",
           "title": {
            "standoff": 15
           },
           "zerolinecolor": "white",
           "zerolinewidth": 2
          },
          "yaxis": {
           "automargin": true,
           "gridcolor": "white",
           "linecolor": "white",
           "ticks": "",
           "title": {
            "standoff": 15
           },
           "zerolinecolor": "white",
           "zerolinewidth": 2
          }
         }
        },
        "width": 1000,
        "xaxis": {
         "anchor": "y",
         "domain": [
          0,
          0.45
         ]
        },
        "xaxis2": {
         "anchor": "y2",
         "domain": [
          0.55,
          1
         ]
        },
        "yaxis": {
         "anchor": "x",
         "domain": [
          0,
          1
         ]
        },
        "yaxis2": {
         "anchor": "x2",
         "domain": [
          0,
          1
         ]
        }
       }
      }
     },
     "metadata": {},
     "output_type": "display_data"
    }
   ],
   "source": [
    "from plotly.subplots import make_subplots\n",
    "\n",
    "fig = make_subplots(rows=1, cols=2)\n",
    "\n",
    "# Add the individual figures to the subplot\n",
    "fig.add_trace(p_curve.data[0], row=1, col=1)\n",
    "fig.add_trace(q_curve.data[0], row=1, col=2)\n",
    "\n",
    "# Update the subplot layout\n",
    "fig.update_layout(height=500, width=1000)\n",
    "\n",
    "# Display the subplot\n",
    "fig.add_hline(y=-np.log10(0.05)).show()"
   ]
  }
 ],
 "metadata": {
  "kernelspec": {
   "display_name": "Python 3 (ipykernel)",
   "language": "python",
   "name": "python3"
  },
  "language_info": {
   "codemirror_mode": {
    "name": "ipython",
    "version": 3
   },
   "file_extension": ".py",
   "mimetype": "text/x-python",
   "name": "python",
   "nbconvert_exporter": "python",
   "pygments_lexer": "ipython3",
   "version": "3.12.0"
  }
 },
 "nbformat": 4,
 "nbformat_minor": 5
}
