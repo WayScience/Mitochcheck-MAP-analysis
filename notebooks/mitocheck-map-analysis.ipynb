{
 "cells": [
  {
   "cell_type": "markdown",
   "metadata": {},
   "source": [
    "# MAP Analysis with MitoCheck Single Cells \n",
    "\n",
    "\n",
    "In this notebook, our goal is to apply the Mean Average Precision (MAP) metric, developed in the [copairs](https://github.com/cytomining/copairs) analysis package.\n",
    "We apply this metric to the MitoCheck single-cell dataset, to see the effects of genetic pertubations based on their phenotype. \n",
    "\n",
    "\n",
    "Some links to look at:\n",
    "- copairs [repo](https://github.com/cytomining/copairs)\n",
    "- MitoCheck github [repo](https://github.com/WayScience/mitocheck_data)\n",
    "- MitoCheck zenodo [repo](https://zenodo.org/records/7967386)"
   ]
  },
  {
   "cell_type": "code",
   "execution_count": 10,
   "metadata": {},
   "outputs": [],
   "source": [
    "import gc\n",
    "import sys\n",
    "import pathlib\n",
    "\n",
    "import copairs\n",
    "import pandas as pd\n",
    "import numpy as np\n",
    "\n",
    "# imports src \n",
    "sys.path.append(\"../\")\n",
    "from src import utils"
   ]
  },
  {
   "cell_type": "markdown",
   "metadata": {},
   "source": [
    "## Loading Downloaded Data\n",
    "\n",
    "In this section, we load the MitoCheck single-cell datasets, including the training, positive controls, and negative controls. \n",
    "For detailed information about the dataset, please refer to the MitoCheck report mentioned above.\n",
    "\n",
    "After downloading the data, we perform formatting by dividing it into two sections. \n",
    "The first section comprises the metadata of each individual cell, while the second section presents all quantified features in a numpy array format.\n",
    "\n",
    "This formatting is designed to easily integrate with the copairs `run_pipeline()` function, allowing for easy execution of the analysis."
   ]
  },
  {
   "cell_type": "code",
   "execution_count": null,
   "metadata": {},
   "outputs": [],
   "source": [
    "# parameters\n",
    "training_singlecell_data = pathlib.Path(\"../data/raw/training_data.csv.gz\").resolve(strict=True)\n",
    "pos_control_data = pathlib.Path(\"../data/raw/normalized_data/positive_control_data.csv.gz\").resolve(strict=True)\n",
    "neg_control_data = pathlib.Path(\"../data/raw/normalized_data/negative_control_data.csv.gz\").resolve(strict=True)"
   ]
  },
  {
   "cell_type": "code",
   "execution_count": 16,
   "metadata": {},
   "outputs": [],
   "source": [
    "# loading in the data into dataframe (~10min loading)\n",
    "training_sc_data = pd.read_csv(training_singlecell_data).drop(\"Unnamed: 0\", axis=1)\n",
    "pos_control_sc_data = pd.read_csv(pos_control_data)\n",
    "neg_control_sc_data = pd.read_csv(neg_control_data)\n"
   ]
  },
  {
   "cell_type": "code",
   "execution_count": 15,
   "metadata": {},
   "outputs": [
    {
     "ename": "NameError",
     "evalue": "name 'training_sc_data' is not defined",
     "output_type": "error",
     "traceback": [
      "\u001b[0;31m---------------------------------------------------------------------------\u001b[0m",
      "\u001b[0;31mNameError\u001b[0m                                 Traceback (most recent call last)",
      "\u001b[1;32m/home/erikserrano/Development/Mitocheck-MAP-analysis/notebooks/mitocheck-map-analysis.ipynb Cell 6\u001b[0m line \u001b[0;36m2\n\u001b[1;32m      <a href='vscode-notebook-cell:/home/erikserrano/Development/Mitocheck-MAP-analysis/notebooks/mitocheck-map-analysis.ipynb#W4sZmlsZQ%3D%3D?line=0'>1</a>\u001b[0m \u001b[39m# seperating dataframe based on feature type \u001b[39;00m\n\u001b[0;32m----> <a href='vscode-notebook-cell:/home/erikserrano/Development/Mitocheck-MAP-analysis/notebooks/mitocheck-map-analysis.ipynb#W4sZmlsZQ%3D%3D?line=1'>2</a>\u001b[0m train_sc_cp_dp_df, cp_df_feat_vals \u001b[39m=\u001b[39m utils\u001b[39m.\u001b[39msplit_data(training_sc_data, dataset\u001b[39m=\u001b[39m\u001b[39m\"\u001b[39m\u001b[39mCP_and_DP\u001b[39m\u001b[39m\"\u001b[39m)\n\u001b[1;32m      <a href='vscode-notebook-cell:/home/erikserrano/Development/Mitocheck-MAP-analysis/notebooks/mitocheck-map-analysis.ipynb#W4sZmlsZQ%3D%3D?line=2'>3</a>\u001b[0m train_sc_cp_df, cp_feat_vals \u001b[39m=\u001b[39m utils\u001b[39m.\u001b[39msplit_data(training_sc_data, dataset\u001b[39m=\u001b[39m\u001b[39m\"\u001b[39m\u001b[39mCP\u001b[39m\u001b[39m\"\u001b[39m)\n\u001b[1;32m      <a href='vscode-notebook-cell:/home/erikserrano/Development/Mitocheck-MAP-analysis/notebooks/mitocheck-map-analysis.ipynb#W4sZmlsZQ%3D%3D?line=3'>4</a>\u001b[0m train_sc_dp_df, dp_feat_vals \u001b[39m=\u001b[39m utils\u001b[39m.\u001b[39msplit_data(training_sc_data, dataset\u001b[39m=\u001b[39m\u001b[39m\"\u001b[39m\u001b[39mDP\u001b[39m\u001b[39m\"\u001b[39m)\n",
      "\u001b[0;31mNameError\u001b[0m: name 'training_sc_data' is not defined"
     ]
    }
   ],
   "source": [
    "# seperating dataframe based on feature type \n",
    "train_sc_cp_dp_df, cp_df_feat_vals = utils.split_data(training_sc_data, dataset=\"CP_and_DP\")\n",
    "train_sc_cp_df, cp_feat_vals = utils.split_data(training_sc_data, dataset=\"CP\")\n",
    "train_sc_dp_df, dp_feat_vals = utils.split_data(training_sc_data, dataset=\"DP\")\n",
    "\n",
    "# spitting positive control data\n",
    "pos_control_cp_dp_df, pos_cp_df_control_vals = utils.split_data(pos_control_sc_data, dataset=\"CP_and_DP\")\n",
    "pos_control_cp_df, pos_cp_control_vals = utils.split_data(pos_control_sc_data, dataset=\"CP\")\n",
    "pos_control_dp_df, pos_dp_control_vals = utils.split_data(pos_control_sc_data, dataset=\"DP\")\n",
    "\n",
    "# splitting negative control data\n",
    "neg_control_cp_dp_df, neg_cp_df_control_vals = utils.split_data(neg_control_sc_data, dataset=\"CP_and_DP\")\n",
    "neg_control_cp_df, neg_cp_control_vals = utils.split_data(neg_control_sc_data, dataset=\"CP\")\n",
    "neg_control_dp_df, neg_dp_control_vals = utils.split_data(neg_control_sc_data, dataset=\"DP\")\n",
    "\n",
    "# drop original dataframes; reset by change data value\n",
    "del training_sc_data\n",
    "del pos_control_sc_data\n",
    "del neg_control_sc_data \n",
    "gc.collect()"
   ]
  },
  {
   "cell_type": "code",
   "execution_count": null,
   "metadata": {},
   "outputs": [
    {
     "data": {
      "text/plain": [
       "0"
      ]
     },
     "execution_count": 5,
     "metadata": {},
     "output_type": "execute_result"
    }
   ],
   "source": []
  },
  {
   "cell_type": "code",
   "execution_count": null,
   "metadata": {},
   "outputs": [],
   "source": []
  }
 ],
 "metadata": {
  "kernelspec": {
   "display_name": "mitocheck-map-analysis",
   "language": "python",
   "name": "python3"
  },
  "language_info": {
   "codemirror_mode": {
    "name": "ipython",
    "version": 3
   },
   "file_extension": ".py",
   "mimetype": "text/x-python",
   "name": "python",
   "nbconvert_exporter": "python",
   "pygments_lexer": "ipython3",
   "version": "3.12.0"
  }
 },
 "nbformat": 4,
 "nbformat_minor": 2
}
