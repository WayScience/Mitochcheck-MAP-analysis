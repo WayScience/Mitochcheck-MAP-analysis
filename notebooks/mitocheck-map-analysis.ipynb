{
 "cells": [
  {
   "cell_type": "markdown",
   "metadata": {},
   "source": [
    "# MAP Analysis with MitoCheck Single Cells \n",
    "\n",
    "\n",
    "In this notebook, our goal is to apply the Mean Average Precision (MAP) metric, developed in the [copairs](https://github.com/cytomining/copairs) analysis package.\n",
    "We apply this metric to the MitoCheck single-cell dataset, to see the effects of genetic pertubations based on their phenotype. \n",
    "\n",
    "\n",
    "Some links to look at:\n",
    "- copairs [repo](https://github.com/cytomining/copairs)\n",
    "- MitoCheck github [repo](https://github.com/WayScience/mitocheck_data)\n",
    "- MitoCheck zenodo [repo](https://zenodo.org/records/7967386)"
   ]
  },
  {
   "cell_type": "code",
   "execution_count": 1,
   "metadata": {},
   "outputs": [],
   "source": [
    "import sys\n",
    "import logging\n",
    "import pprint\n",
    "import pathlib\n",
    "\n",
    "from copairs.map import run_pipeline\n",
    "import pandas as pd\n",
    "import numpy as np\n",
    "\n",
    "# imports src\n",
    "sys.path.append(\"../\")\n",
    "from src import utils\n",
    "\n",
    "# setting up logger\n",
    "# setting up logger\n",
    "logging.basicConfig(filename=\"map_analysis.log\", \n",
    "                    level=logging.DEBUG,\n",
    "                    format='%(levelname)s:%(asctime)s:%(name)s:%(message)s')"
   ]
  },
  {
   "cell_type": "markdown",
   "metadata": {},
   "source": [
    "## Loading Downloaded Data\n",
    "\n",
    "In this section, we load the MitoCheck single-cell datasets, including the training, positive controls, and negative controls. \n",
    "For detailed information about the dataset, please refer to the MitoCheck report mentioned above.\n",
    "\n",
    "After downloading the data, we perform formatting by dividing it into two sections. \n",
    "The first section comprises the metadata of each individual cell, while the second section presents all quantified features in a numpy array format.\n",
    "\n",
    "This formatting is designed to easily integrate with the copairs `run_pipeline()` function, allowing for easy execution of the analysis."
   ]
  },
  {
   "cell_type": "code",
   "execution_count": 2,
   "metadata": {},
   "outputs": [],
   "source": [
    "# parameters\n",
    "training_singlecell_data = pathlib.Path(\"../data/raw/training_data.csv.gz\").resolve(strict=True)\n",
    "pos_control_data = pathlib.Path(\"../data/raw/normalized_data/positive_control_data.csv.gz\").resolve(strict=True)\n",
    "neg_control_data = pathlib.Path(\"../data/raw/normalized_data/negative_control_data.csv.gz\").resolve(strict=True)"
   ]
  },
  {
   "cell_type": "code",
   "execution_count": 3,
   "metadata": {},
   "outputs": [],
   "source": [
    "# # loading in the data into dataframe (~10min loading)\n",
    "# training_sc_data = pd.read_csv(training_singlecell_data).drop(\"Unnamed: 0\", axis=1)\n",
    "# pos_control_sc_data = pd.read_csv(pos_control_data)\n",
    "# neg_control_sc_data = pd.read_csv(neg_control_data)\n",
    "\n",
    "# # adding the Mitocheck_Phenotypic_Class into the controls  and labels\n",
    "# pos_control_sc_data.insert(0, \"Mitocheck_Phenotypic_Class\", \"pos_control\")\n",
    "# neg_control_sc_data.insert(0, \"Mitocheck_Phenotypic_Class\", \"neg_control\")\n",
    "\n",
    "# # droping column from trainign data since it does not exist in the controls \n",
    "# training_sc_data = training_sc_data.drop(\"Metadata_Object_Outline\", axis=1)"
   ]
  },
  {
   "cell_type": "code",
   "execution_count": 4,
   "metadata": {},
   "outputs": [],
   "source": [
    "# TODO: delete this later for \n",
    "training_sc_data = pd.read_parquet(\"../data/processed/training_sc_data.parquet\")\n",
    "pos_control_sc_data = pd.read_parquet(\"../data/processed/pos_control_sc_data.parquet\").sample(frac=0.01, random_state=42)\n",
    "neg_control_sc_data = pd.read_parquet(\"../data/processed/neg_control_sc_data.parquet\").sample(frac=0.01, random_state=42)\n",
    "\n",
    "# adding the Mitocheck_Phenotypic_Class into the controls  and labels\n",
    "pos_control_sc_data.insert(0, \"Mitocheck_Phenotypic_Class\", \"pos_control\")\n",
    "neg_control_sc_data.insert(0, \"Mitocheck_Phenotypic_Class\", \"neg_control\")\n",
    "\n",
    "# droping column from trainign data since it does not exist in the controls \n",
    "training_sc_data = training_sc_data.drop(\"Metadata_Object_Outline\", axis=1)"
   ]
  },
  {
   "cell_type": "code",
   "execution_count": 12,
   "metadata": {},
   "outputs": [
    {
     "data": {
      "application/vnd.jupyter.widget-view+json": {
       "model_id": "e4169cfdfeb4417b97d79b0a16dccfec",
       "version_major": 2,
       "version_minor": 0
      },
      "text/plain": [
       "  0%|          | 0/5298 [00:00<?, ?it/s]"
      ]
     },
     "metadata": {},
     "output_type": "display_data"
    },
    {
     "data": {
      "application/vnd.jupyter.widget-view+json": {
       "model_id": "6711ba1763034369a8f619c9db5e200e",
       "version_major": 2,
       "version_minor": 0
      },
      "text/plain": [
       "  0%|          | 0/1 [00:00<?, ?it/s]"
      ]
     },
     "metadata": {},
     "output_type": "display_data"
    },
    {
     "data": {
      "application/vnd.jupyter.widget-view+json": {
       "model_id": "2b2c0fdca4644c5186f016b844af5a5d",
       "version_major": 2,
       "version_minor": 0
      },
      "text/plain": [
       "  0%|          | 0/310 [00:00<?, ?it/s]"
      ]
     },
     "metadata": {},
     "output_type": "display_data"
    },
    {
     "data": {
      "application/vnd.jupyter.widget-view+json": {
       "model_id": "2e7f95d3d484409da1098735f7c99371",
       "version_major": 2,
       "version_minor": 0
      },
      "text/plain": [
       "  0%|          | 0/5314 [00:00<?, ?it/s]"
      ]
     },
     "metadata": {},
     "output_type": "display_data"
    },
    {
     "data": {
      "application/vnd.jupyter.widget-view+json": {
       "model_id": "193ed2d280ab47e791955b84f07d0cf0",
       "version_major": 2,
       "version_minor": 0
      },
      "text/plain": [
       "  0%|          | 0/2 [00:00<?, ?it/s]"
      ]
     },
     "metadata": {},
     "output_type": "display_data"
    },
    {
     "data": {
      "application/vnd.jupyter.widget-view+json": {
       "model_id": "2b772699d40142c6b94562ab87e4b991",
       "version_major": 2,
       "version_minor": 0
      },
      "text/plain": [
       "  0%|          | 0/317 [00:00<?, ?it/s]"
      ]
     },
     "metadata": {},
     "output_type": "display_data"
    },
    {
     "data": {
      "application/vnd.jupyter.widget-view+json": {
       "model_id": "1d72b5031718488d95945b5b6f2ac730",
       "version_major": 2,
       "version_minor": 0
      },
      "text/plain": [
       "  0%|          | 0/5297 [00:00<?, ?it/s]"
      ]
     },
     "metadata": {},
     "output_type": "display_data"
    },
    {
     "data": {
      "application/vnd.jupyter.widget-view+json": {
       "model_id": "dfa5af099e72467bb637022c1c0ba8ed",
       "version_major": 2,
       "version_minor": 0
      },
      "text/plain": [
       "  0%|          | 0/1 [00:00<?, ?it/s]"
      ]
     },
     "metadata": {},
     "output_type": "display_data"
    },
    {
     "data": {
      "application/vnd.jupyter.widget-view+json": {
       "model_id": "0b6d64919b11456c9eb30a46c551037f",
       "version_major": 2,
       "version_minor": 0
      },
      "text/plain": [
       "  0%|          | 0/278 [00:00<?, ?it/s]"
      ]
     },
     "metadata": {},
     "output_type": "display_data"
    },
    {
     "data": {
      "application/vnd.jupyter.widget-view+json": {
       "model_id": "8335f55d4698452f8cc875918ce5dd88",
       "version_major": 2,
       "version_minor": 0
      },
      "text/plain": [
       "  0%|          | 0/5324 [00:00<?, ?it/s]"
      ]
     },
     "metadata": {},
     "output_type": "display_data"
    },
    {
     "data": {
      "application/vnd.jupyter.widget-view+json": {
       "model_id": "9a75370ed4844cc9b1a83b206a8b8f93",
       "version_major": 2,
       "version_minor": 0
      },
      "text/plain": [
       "  0%|          | 0/2 [00:00<?, ?it/s]"
      ]
     },
     "metadata": {},
     "output_type": "display_data"
    },
    {
     "data": {
      "application/vnd.jupyter.widget-view+json": {
       "model_id": "a9f0a96648d84506a4e9cb7f8269677e",
       "version_major": 2,
       "version_minor": 0
      },
      "text/plain": [
       "  0%|          | 0/367 [00:00<?, ?it/s]"
      ]
     },
     "metadata": {},
     "output_type": "display_data"
    },
    {
     "data": {
      "application/vnd.jupyter.widget-view+json": {
       "model_id": "ced5fa5867ad4a27bf4a5ec8c8940b8e",
       "version_major": 2,
       "version_minor": 0
      },
      "text/plain": [
       "  0%|          | 0/5309 [00:00<?, ?it/s]"
      ]
     },
     "metadata": {},
     "output_type": "display_data"
    },
    {
     "data": {
      "application/vnd.jupyter.widget-view+json": {
       "model_id": "b1464f3052644196ae2b1a746a2a6e19",
       "version_major": 2,
       "version_minor": 0
      },
      "text/plain": [
       "  0%|          | 0/1 [00:00<?, ?it/s]"
      ]
     },
     "metadata": {},
     "output_type": "display_data"
    },
    {
     "data": {
      "application/vnd.jupyter.widget-view+json": {
       "model_id": "7e39372008ff466fa798fff658d47fb7",
       "version_major": 2,
       "version_minor": 0
      },
      "text/plain": [
       "  0%|          | 0/357 [00:00<?, ?it/s]"
      ]
     },
     "metadata": {},
     "output_type": "display_data"
    },
    {
     "data": {
      "application/vnd.jupyter.widget-view+json": {
       "model_id": "8488e77612e44bdfaebb46e79376b07d",
       "version_major": 2,
       "version_minor": 0
      },
      "text/plain": [
       "  0%|          | 0/5298 [00:00<?, ?it/s]"
      ]
     },
     "metadata": {},
     "output_type": "display_data"
    },
    {
     "data": {
      "application/vnd.jupyter.widget-view+json": {
       "model_id": "1833b3fe41304c30b87856e0f738b632",
       "version_major": 2,
       "version_minor": 0
      },
      "text/plain": [
       "  0%|          | 0/1 [00:00<?, ?it/s]"
      ]
     },
     "metadata": {},
     "output_type": "display_data"
    },
    {
     "data": {
      "application/vnd.jupyter.widget-view+json": {
       "model_id": "7372751671c04204be8433610af8e585",
       "version_major": 2,
       "version_minor": 0
      },
      "text/plain": [
       "  0%|          | 0/257 [00:00<?, ?it/s]"
      ]
     },
     "metadata": {},
     "output_type": "display_data"
    },
    {
     "data": {
      "application/vnd.jupyter.widget-view+json": {
       "model_id": "7fd96ccd48994fa28b8ec57e9c792acb",
       "version_major": 2,
       "version_minor": 0
      },
      "text/plain": [
       "  0%|          | 0/5297 [00:00<?, ?it/s]"
      ]
     },
     "metadata": {},
     "output_type": "display_data"
    },
    {
     "data": {
      "application/vnd.jupyter.widget-view+json": {
       "model_id": "4cee86bace6145e2848c98941df34074",
       "version_major": 2,
       "version_minor": 0
      },
      "text/plain": [
       "  0%|          | 0/1 [00:00<?, ?it/s]"
      ]
     },
     "metadata": {},
     "output_type": "display_data"
    },
    {
     "data": {
      "application/vnd.jupyter.widget-view+json": {
       "model_id": "e1907ffd3f5042a9a05b0193fa2533ad",
       "version_major": 2,
       "version_minor": 0
      },
      "text/plain": [
       "  0%|          | 0/273 [00:00<?, ?it/s]"
      ]
     },
     "metadata": {},
     "output_type": "display_data"
    },
    {
     "data": {
      "application/vnd.jupyter.widget-view+json": {
       "model_id": "2580502e1555471bb35cfde745a63cb1",
       "version_major": 2,
       "version_minor": 0
      },
      "text/plain": [
       "  0%|          | 0/5301 [00:00<?, ?it/s]"
      ]
     },
     "metadata": {},
     "output_type": "display_data"
    },
    {
     "data": {
      "application/vnd.jupyter.widget-view+json": {
       "model_id": "ab8fce4071c140bcb03b54dae2b8a6b0",
       "version_major": 2,
       "version_minor": 0
      },
      "text/plain": [
       "  0%|          | 0/1 [00:00<?, ?it/s]"
      ]
     },
     "metadata": {},
     "output_type": "display_data"
    },
    {
     "data": {
      "application/vnd.jupyter.widget-view+json": {
       "model_id": "4eb8373aaace4a5c985da6c4cc8334d6",
       "version_major": 2,
       "version_minor": 0
      },
      "text/plain": [
       "  0%|          | 0/302 [00:00<?, ?it/s]"
      ]
     },
     "metadata": {},
     "output_type": "display_data"
    },
    {
     "data": {
      "application/vnd.jupyter.widget-view+json": {
       "model_id": "60024254bc584d0eb23173960f8fc195",
       "version_major": 2,
       "version_minor": 0
      },
      "text/plain": [
       "  0%|          | 0/5318 [00:00<?, ?it/s]"
      ]
     },
     "metadata": {},
     "output_type": "display_data"
    },
    {
     "data": {
      "application/vnd.jupyter.widget-view+json": {
       "model_id": "cc500bad14d74cc8b36535256568415e",
       "version_major": 2,
       "version_minor": 0
      },
      "text/plain": [
       "  0%|          | 0/2 [00:00<?, ?it/s]"
      ]
     },
     "metadata": {},
     "output_type": "display_data"
    },
    {
     "data": {
      "application/vnd.jupyter.widget-view+json": {
       "model_id": "7d9adc16d6634da5993f57d378a4f8d2",
       "version_major": 2,
       "version_minor": 0
      },
      "text/plain": [
       "  0%|          | 0/403 [00:00<?, ?it/s]"
      ]
     },
     "metadata": {},
     "output_type": "display_data"
    },
    {
     "data": {
      "application/vnd.jupyter.widget-view+json": {
       "model_id": "539c3d44408642cd8edc053f15ae72d3",
       "version_major": 2,
       "version_minor": 0
      },
      "text/plain": [
       "  0%|          | 0/5298 [00:00<?, ?it/s]"
      ]
     },
     "metadata": {},
     "output_type": "display_data"
    },
    {
     "data": {
      "application/vnd.jupyter.widget-view+json": {
       "model_id": "24a3b518eb72466683eaefed16ef92f4",
       "version_major": 2,
       "version_minor": 0
      },
      "text/plain": [
       "  0%|          | 0/1 [00:00<?, ?it/s]"
      ]
     },
     "metadata": {},
     "output_type": "display_data"
    },
    {
     "data": {
      "application/vnd.jupyter.widget-view+json": {
       "model_id": "57502a9b7573439eae37841a84269770",
       "version_major": 2,
       "version_minor": 0
      },
      "text/plain": [
       "  0%|          | 0/322 [00:00<?, ?it/s]"
      ]
     },
     "metadata": {},
     "output_type": "display_data"
    },
    {
     "data": {
      "application/vnd.jupyter.widget-view+json": {
       "model_id": "ceed7c79df204767a6e84d0dae59de2a",
       "version_major": 2,
       "version_minor": 0
      },
      "text/plain": [
       "  0%|          | 0/5302 [00:00<?, ?it/s]"
      ]
     },
     "metadata": {},
     "output_type": "display_data"
    },
    {
     "data": {
      "application/vnd.jupyter.widget-view+json": {
       "model_id": "b318d140f8c94da7a82c726c5d01d013",
       "version_major": 2,
       "version_minor": 0
      },
      "text/plain": [
       "  0%|          | 0/1 [00:00<?, ?it/s]"
      ]
     },
     "metadata": {},
     "output_type": "display_data"
    },
    {
     "data": {
      "application/vnd.jupyter.widget-view+json": {
       "model_id": "731b51a14f084868983f546186ad392c",
       "version_major": 2,
       "version_minor": 0
      },
      "text/plain": [
       "  0%|          | 0/357 [00:00<?, ?it/s]"
      ]
     },
     "metadata": {},
     "output_type": "display_data"
    },
    {
     "data": {
      "application/vnd.jupyter.widget-view+json": {
       "model_id": "1a5a6f541a1444f89c2362bb32d73c22",
       "version_major": 2,
       "version_minor": 0
      },
      "text/plain": [
       "  0%|          | 0/5299 [00:00<?, ?it/s]"
      ]
     },
     "metadata": {},
     "output_type": "display_data"
    },
    {
     "data": {
      "application/vnd.jupyter.widget-view+json": {
       "model_id": "225b2eb11147486e99fbb65a46e7ee5d",
       "version_major": 2,
       "version_minor": 0
      },
      "text/plain": [
       "  0%|          | 0/1 [00:00<?, ?it/s]"
      ]
     },
     "metadata": {},
     "output_type": "display_data"
    },
    {
     "data": {
      "application/vnd.jupyter.widget-view+json": {
       "model_id": "d88f39eebdc74b8ea5c26c12bf4dedff",
       "version_major": 2,
       "version_minor": 0
      },
      "text/plain": [
       "  0%|          | 0/301 [00:00<?, ?it/s]"
      ]
     },
     "metadata": {},
     "output_type": "display_data"
    },
    {
     "data": {
      "application/vnd.jupyter.widget-view+json": {
       "model_id": "9ea74345acd84862b285970069958145",
       "version_major": 2,
       "version_minor": 0
      },
      "text/plain": [
       "  0%|          | 0/5298 [00:00<?, ?it/s]"
      ]
     },
     "metadata": {},
     "output_type": "display_data"
    },
    {
     "data": {
      "application/vnd.jupyter.widget-view+json": {
       "model_id": "ab795f6738f54b1d9571268c1c58660a",
       "version_major": 2,
       "version_minor": 0
      },
      "text/plain": [
       "  0%|          | 0/1 [00:00<?, ?it/s]"
      ]
     },
     "metadata": {},
     "output_type": "display_data"
    },
    {
     "data": {
      "application/vnd.jupyter.widget-view+json": {
       "model_id": "a090b4bc2d8c4706a37219c547d9de79",
       "version_major": 2,
       "version_minor": 0
      },
      "text/plain": [
       "  0%|          | 0/301 [00:00<?, ?it/s]"
      ]
     },
     "metadata": {},
     "output_type": "display_data"
    },
    {
     "data": {
      "application/vnd.jupyter.widget-view+json": {
       "model_id": "929b8a8b7bcd4dd88baf71f1c669919a",
       "version_major": 2,
       "version_minor": 0
      },
      "text/plain": [
       "  0%|          | 0/5302 [00:00<?, ?it/s]"
      ]
     },
     "metadata": {},
     "output_type": "display_data"
    },
    {
     "data": {
      "application/vnd.jupyter.widget-view+json": {
       "model_id": "ee81c5783be9445da9bc5f3f7ad47b86",
       "version_major": 2,
       "version_minor": 0
      },
      "text/plain": [
       "  0%|          | 0/1 [00:00<?, ?it/s]"
      ]
     },
     "metadata": {},
     "output_type": "display_data"
    },
    {
     "data": {
      "application/vnd.jupyter.widget-view+json": {
       "model_id": "8b89a5e3ef7c4715840269fadef30340",
       "version_major": 2,
       "version_minor": 0
      },
      "text/plain": [
       "  0%|          | 0/346 [00:00<?, ?it/s]"
      ]
     },
     "metadata": {},
     "output_type": "display_data"
    },
    {
     "data": {
      "application/vnd.jupyter.widget-view+json": {
       "model_id": "6f46cd4c606d42ec9c313812b1c65a68",
       "version_major": 2,
       "version_minor": 0
      },
      "text/plain": [
       "  0%|          | 0/5299 [00:00<?, ?it/s]"
      ]
     },
     "metadata": {},
     "output_type": "display_data"
    },
    {
     "data": {
      "application/vnd.jupyter.widget-view+json": {
       "model_id": "53e8604e37f3415096ce9247ab74a7ed",
       "version_major": 2,
       "version_minor": 0
      },
      "text/plain": [
       "  0%|          | 0/1 [00:00<?, ?it/s]"
      ]
     },
     "metadata": {},
     "output_type": "display_data"
    },
    {
     "data": {
      "application/vnd.jupyter.widget-view+json": {
       "model_id": "ceeec37dcb54482a953219fd23fd5586",
       "version_major": 2,
       "version_minor": 0
      },
      "text/plain": [
       "  0%|          | 0/316 [00:00<?, ?it/s]"
      ]
     },
     "metadata": {},
     "output_type": "display_data"
    },
    {
     "data": {
      "application/vnd.jupyter.widget-view+json": {
       "model_id": "b5e61a4190364509bb347c0ac44269aa",
       "version_major": 2,
       "version_minor": 0
      },
      "text/plain": [
       "  0%|          | 0/5308 [00:00<?, ?it/s]"
      ]
     },
     "metadata": {},
     "output_type": "display_data"
    },
    {
     "data": {
      "application/vnd.jupyter.widget-view+json": {
       "model_id": "6677fcf6165b46f09eafd807c34fb44e",
       "version_major": 2,
       "version_minor": 0
      },
      "text/plain": [
       "  0%|          | 0/2 [00:00<?, ?it/s]"
      ]
     },
     "metadata": {},
     "output_type": "display_data"
    },
    {
     "data": {
      "application/vnd.jupyter.widget-view+json": {
       "model_id": "7693210f1f8045638575c16cbb9365c6",
       "version_major": 2,
       "version_minor": 0
      },
      "text/plain": [
       "  0%|          | 0/271 [00:00<?, ?it/s]"
      ]
     },
     "metadata": {},
     "output_type": "display_data"
    }
   ],
   "source": [
    "\n",
    "# parameters for pipeline\n",
    "pos_sameby = [\"Mitocheck_Phenotypic_Class\"]\n",
    "pos_diffby = ['Metadata_Plate', 'Metadata_Well']\n",
    "neg_sameby = [\"Metadata_Plate\"]\n",
    "neg_diffby = [\"Mitocheck_Phenotypic_Class\"]\n",
    "null_size = 3000\n",
    "batch_size = 3000\n",
    "\n",
    "# storing all map results based on postiive and negative controls and feature types\n",
    "map_results_neg_cp = []\n",
    "map_results_neg_dp = []\n",
    "map_results_neg_cp_dp = []\n",
    "\n",
    "# running process\n",
    "# for loop selects one single phenotype\n",
    "# then splits the data into metadata and raw feature values \n",
    "# two different groups that contains 3 splits caused by the types of features\n",
    "# applie the copairs pipeline\n",
    "for phenotype in list(training_sc_data[\"Mitocheck_Phenotypic_Class\"].unique()):\n",
    "\n",
    "    # select training dataset based on phenotype\n",
    "    selected_training = training_sc_data.loc[training_sc_data[\"Mitocheck_Phenotypic_Class\"] == phenotype]\n",
    "\n",
    "    # concatenate to positive and negative control \n",
    "    training_w_pos = pd.concat([selected_training, pos_control_sc_data])\n",
    "    training_w_neg = pd.concat([selected_training, neg_control_sc_data])\n",
    "    \n",
    "    # spliting metadata and raw feature values\n",
    "    negative_training_cp_meta, negative_training_cp_feats = utils.split_data(training_w_neg, dataset=\"CP\")\n",
    "    negative_training_dp_meta, negative_training_dp_feats = utils.split_data(training_w_neg, dataset=\"DP\")\n",
    "    negative_training_cp_dp_meta, negative_training_cp_dp_feats = utils.split_data(training_w_neg, dataset=\"CP_and_DP\")\n",
    "\n",
    "\n",
    "    # execute pipeline on negative control with trianing dataset with cp features\n",
    "    cp_negative_training_result = run_pipeline(meta=negative_training_cp_meta,\n",
    "                                            feats=negative_training_cp_feats,\n",
    "                                            pos_sameby=pos_sameby,\n",
    "                                            pos_diffby=pos_diffby,\n",
    "                                            neg_sameby=neg_sameby,\n",
    "                                            neg_diffby=neg_diffby,\n",
    "                                            batch_size=batch_size,\n",
    "                                            null_size=null_size)\n",
    "    map_results_neg_cp.append(cp_negative_training_result)                                       \n",
    "\n",
    "    # execute pipeline on negative control with trianing dataset with dp features\n",
    "    dp_negative_training_result = run_pipeline(meta=negative_training_dp_meta,\n",
    "                                            feats=negative_training_dp_feats,\n",
    "                                            pos_sameby=pos_sameby,\n",
    "                                            pos_diffby=pos_diffby,\n",
    "                                            neg_sameby=neg_sameby,\n",
    "                                            neg_diffby=neg_diffby,\n",
    "                                            batch_size=batch_size,\n",
    "                                            null_size=null_size)\n",
    "    map_results_neg_dp.append(dp_negative_training_result)                                       \n",
    "\n",
    "    # execute pipeline on negative control with trianing dataset with cp_dp features\n",
    "    cp_dp_negative_training_result = run_pipeline(meta=negative_training_cp_dp_meta,\n",
    "                                            feats=negative_training_cp_dp_feats,\n",
    "                                            pos_sameby=pos_sameby,\n",
    "                                            pos_diffby=pos_diffby,\n",
    "                                            neg_sameby=neg_sameby,\n",
    "                                            neg_diffby=neg_diffby,\n",
    "                                            batch_size=batch_size,\n",
    "                                            null_size=null_size)\n",
    "    map_results_neg_cp_dp.append(cp_dp_negative_training_result)                                       "
   ]
  },
  {
   "cell_type": "code",
   "execution_count": 8,
   "metadata": {},
   "outputs": [],
   "source": [
    "df = pd.concat(map_results_pos_cp)"
   ]
  },
  {
   "cell_type": "code",
   "execution_count": 11,
   "metadata": {},
   "outputs": [],
   "source": [
    "df.to_csv(\"results.csv\", index=False)"
   ]
  },
  {
   "cell_type": "code",
   "execution_count": null,
   "metadata": {},
   "outputs": [],
   "source": []
  }
 ],
 "metadata": {
  "kernelspec": {
   "display_name": "mitocheck-map-analysis",
   "language": "python",
   "name": "python3"
  },
  "language_info": {
   "codemirror_mode": {
    "name": "ipython",
    "version": 3
   },
   "file_extension": ".py",
   "mimetype": "text/x-python",
   "name": "python",
   "nbconvert_exporter": "python",
   "pygments_lexer": "ipython3",
   "version": "3.12.0"
  }
 },
 "nbformat": 4,
 "nbformat_minor": 2
}
